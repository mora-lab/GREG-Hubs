{
 "cells": [
  {
   "cell_type": "markdown",
   "metadata": {},
   "source": [
    "# Prediction of Transcription Factories: A Machine Learning Blueprint\n",
    "### Shaurya Jauhari, Mora Lab, GZHMU."
   ]
  },
  {
   "cell_type": "markdown",
   "metadata": {},
   "source": [
    "Transcription Factories are those purported sites that have been identified as the breeding grounds for transcripts. Their relevance heightens when the spatial organization of the genome is considered. Since transcription factories attract distant segments of the genome together for inter-mingling and possibly carrying out regulation, true picture emerges of the parts that co-localize and co-express. This has been a major lacuna in the dogma of the current suite of enrichment tools for genomic regions."
   ]
  },
  {
   "cell_type": "markdown",
   "metadata": {},
   "source": [
    "## Prerequisites"
   ]
  },
  {
   "cell_type": "markdown",
   "metadata": {},
   "source": [
    "The protocol would require the availability of the following tools. Kindly ensure that they have been successfully installed in your system and embrace a **PATH** variable definition.\n",
    "1. [samtools](http://www.htslib.org/)\n",
    "2. [deeptools](https://deeptools.readthedocs.io/en/develop/)\n",
    "\n",
    "Additionally, the notebook employs several bash scripts that are available [here](https://github.com/shauryajauhari/transcriptionFactoriesGREG/tree/master/terminalScripts), and R functions available [here](https://github.com/shauryajauhari/transcriptionFactoriesGREG/tree/master/projectFunctions). These scripts hold the relevant annotation and must be cloned to the project directory for implementation."
   ]
  },
  {
   "cell_type": "markdown",
   "metadata": {},
   "source": [
    "## Setting up Data"
   ]
  },
  {
   "cell_type": "markdown",
   "metadata": {},
   "source": [
    "We have compiled a tabulation for the metadata associated with cell types in GREG. The relevant features shall be the basis for our machine learning model, but before even reaching that far we're tempted to visualize the reads from these features (transcription factors, histone marks, and RNA-Seqs)."
   ]
  },
  {
   "cell_type": "code",
   "execution_count": 1,
   "metadata": {},
   "outputs": [
    {
     "name": "stderr",
     "output_type": "stream",
     "text": [
      "Loading required package: readxl\n",
      "\n"
     ]
    },
    {
     "data": {
      "text/html": [
       "<table>\n",
       "<caption>A tibble: 6 × 11</caption>\n",
       "<thead>\n",
       "\t<tr><th scope=col>Cell Type</th><th scope=col>Feature</th><th scope=col>Samples</th><th scope=col>Source</th><th scope=col>Species</th><th scope=col>Genome Version</th><th scope=col>Laboratory</th><th scope=col>Notes</th><th scope=col>Download Link</th><th scope=col>File Type</th><th scope=col>Selection Criteria</th></tr>\n",
       "\t<tr><th scope=col>&lt;chr&gt;</th><th scope=col>&lt;chr&gt;</th><th scope=col>&lt;chr&gt;</th><th scope=col>&lt;chr&gt;</th><th scope=col>&lt;chr&gt;</th><th scope=col>&lt;chr&gt;</th><th scope=col>&lt;chr&gt;</th><th scope=col>&lt;chr&gt;</th><th scope=col>&lt;list&gt;</th><th scope=col>&lt;chr&gt;</th><th scope=col>&lt;chr&gt;</th></tr>\n",
       "</thead>\n",
       "<tbody>\n",
       "\t<tr><td>A549</td><td>CTCF    </td><td>GSM1003582</td><td>ENCODE</td><td>Homo sapiens</td><td>hg19</td><td>Bradley Bernstein, Broad                           </td><td>GSM1003582 is from Bradley Bernstein, Broad and the sample is treated with 100 nM dexamethasone for 1 hour</td><td>https://www.encodeproject.org/files/ENCFF631JUR/@@download/ENCFF631JUR.bam ,  https://www.encodeproject.org/files/ENCFF685FVQ/@@download/ENCFF685FVQ.bam</td><td>BAM</td><td>More samples from this lab; more chosen samples from this method (treatment with 100 nM dexamethasone for 1 hour).</td></tr>\n",
       "\t<tr><td>A549</td><td>EP300   </td><td>GSM1010827</td><td>ENCODE</td><td>Homo sapiens</td><td>hg19</td><td>Myers Lab, Hudson Alpha Institute of Biotechnology.</td><td>GSM1010827 is treated with 0.02% ethanol for 1 hour                                                       </td><td>https://www.encodeproject.org/files/ENCFF540LLB/@@download/ENCFF540LLB.bam ,  https://www.encodeproject.org/files/ENCFF864VSA/@@download/ENCFF864VSA.bam</td><td>BAM</td><td>Only choice                                                                                                       </td></tr>\n",
       "\t<tr><td>A549</td><td>H3K27me3</td><td>GSM1003577</td><td>ENCODE</td><td>Homo sapiens</td><td>hg19</td><td>Bradley Bernstein, Broad                           </td><td>GSM1003577 is from Bradley Bernstein, Broad and the sample is treated with 100 nM dexamethasone for 1 hour</td><td>https://www.encodeproject.org/files/ENCFF800NPS/@@download/ENCFF800NPS.bam ,  https://www.encodeproject.org/files/ENCFF664RTA/@@download/ENCFF664RTA.bam</td><td>BAM</td><td>More chosen samples from this method (treatment with 100 nM dexamethasone for 1 hour)                             </td></tr>\n",
       "\t<tr><td>A549</td><td>H3K36me3</td><td>GSM1003494</td><td>ENCODE</td><td>Homo sapiens</td><td>hg19</td><td>Bradley Bernstein, Broad                           </td><td>GSM1003494 is from Bradley Bernstein, Broad and the sample is treated with 100 nM dexamethasone for 1 hour</td><td>https://www.encodeproject.org/files/ENCFF386GAK/@@download/ENCFF386GAK.bam ,  https://www.encodeproject.org/files/ENCFF572FCV/@@download/ENCFF572FCV.bam</td><td>BAM</td><td>More chosen samples from this method (treatment with 100 nM dexamethasone for 1 hour)                             </td></tr>\n",
       "\t<tr><td>A549</td><td>H3K4me1 </td><td>GSM1003495</td><td>ENCODE</td><td>Homo sapiens</td><td>hg19</td><td>Bradley Bernstein, Broad                           </td><td>GSM1003495 is from Bradley Bernstein, Broad and the sample is treated with 100 nM dexamethasone for 1 hour</td><td>https://www.encodeproject.org/files/ENCFF892UTA/@@download/ENCFF892UTA.bam ,  https://www.encodeproject.org/files/ENCFF000AIE/@@download/ENCFF000AIE.bam,  https://www.encodeproject.org/files/ENCFF739OOI/@@download/ENCFF739OOI.bam,  https://www.encodeproject.org/files/ENCFF000AIG/@@download/ENCFF000AIG.bam</td><td>BAM</td><td>More chosen samples from this method (treatment with 100 nM dexamethasone for 1 hour)                             </td></tr>\n",
       "\t<tr><td>A549</td><td>H3K4me2 </td><td>GSM1003511</td><td>ENCODE</td><td>Homo sapiens</td><td>hg19</td><td>Bradley Bernstein, Broad                           </td><td>GSM1003511 is from Bradley Bernstein, Broad and the sample is treated with 100 nM dexamethasone for 1 hour</td><td>https://www.encodeproject.org/files/ENCFF874VXV/@@download/ENCFF874VXV.bam ,  https://www.encodeproject.org/files/ENCFF927EWB/@@download/ENCFF927EWB.bam</td><td>BAM</td><td>More chosen samples from this method (treatment with 100 nM dexamethasone for 1 hour)                             </td></tr>\n",
       "</tbody>\n",
       "</table>\n"
      ],
      "text/latex": [
       "A tibble: 6 × 11\n",
       "\\begin{tabular}{lllllllllll}\n",
       " Cell Type & Feature & Samples & Source & Species & Genome Version & Laboratory & Notes & Download Link & File Type & Selection Criteria\\\\\n",
       " <chr> & <chr> & <chr> & <chr> & <chr> & <chr> & <chr> & <chr> & <list> & <chr> & <chr>\\\\\n",
       "\\hline\n",
       "\t A549 & CTCF     & GSM1003582 & ENCODE & Homo sapiens & hg19 & Bradley Bernstein, Broad                            & GSM1003582 is from Bradley Bernstein, Broad and the sample is treated with 100 nM dexamethasone for 1 hour & https://www.encodeproject.org/files/ENCFF631JUR/@@download/ENCFF631JUR.bam ,  https://www.encodeproject.org/files/ENCFF685FVQ/@@download/ENCFF685FVQ.bam & BAM & More samples from this lab; more chosen samples from this method (treatment with 100 nM dexamethasone for 1 hour).\\\\\n",
       "\t A549 & EP300    & GSM1010827 & ENCODE & Homo sapiens & hg19 & Myers Lab, Hudson Alpha Institute of Biotechnology. & GSM1010827 is treated with 0.02\\% ethanol for 1 hour                                                        & https://www.encodeproject.org/files/ENCFF540LLB/@@download/ENCFF540LLB.bam ,  https://www.encodeproject.org/files/ENCFF864VSA/@@download/ENCFF864VSA.bam & BAM & Only choice                                                                                                       \\\\\n",
       "\t A549 & H3K27me3 & GSM1003577 & ENCODE & Homo sapiens & hg19 & Bradley Bernstein, Broad                            & GSM1003577 is from Bradley Bernstein, Broad and the sample is treated with 100 nM dexamethasone for 1 hour & https://www.encodeproject.org/files/ENCFF800NPS/@@download/ENCFF800NPS.bam ,  https://www.encodeproject.org/files/ENCFF664RTA/@@download/ENCFF664RTA.bam & BAM & More chosen samples from this method (treatment with 100 nM dexamethasone for 1 hour)                             \\\\\n",
       "\t A549 & H3K36me3 & GSM1003494 & ENCODE & Homo sapiens & hg19 & Bradley Bernstein, Broad                            & GSM1003494 is from Bradley Bernstein, Broad and the sample is treated with 100 nM dexamethasone for 1 hour & https://www.encodeproject.org/files/ENCFF386GAK/@@download/ENCFF386GAK.bam ,  https://www.encodeproject.org/files/ENCFF572FCV/@@download/ENCFF572FCV.bam & BAM & More chosen samples from this method (treatment with 100 nM dexamethasone for 1 hour)                             \\\\\n",
       "\t A549 & H3K4me1  & GSM1003495 & ENCODE & Homo sapiens & hg19 & Bradley Bernstein, Broad                            & GSM1003495 is from Bradley Bernstein, Broad and the sample is treated with 100 nM dexamethasone for 1 hour & https://www.encodeproject.org/files/ENCFF892UTA/@@download/ENCFF892UTA.bam ,  https://www.encodeproject.org/files/ENCFF000AIE/@@download/ENCFF000AIE.bam,  https://www.encodeproject.org/files/ENCFF739OOI/@@download/ENCFF739OOI.bam,  https://www.encodeproject.org/files/ENCFF000AIG/@@download/ENCFF000AIG.bam & BAM & More chosen samples from this method (treatment with 100 nM dexamethasone for 1 hour)                             \\\\\n",
       "\t A549 & H3K4me2  & GSM1003511 & ENCODE & Homo sapiens & hg19 & Bradley Bernstein, Broad                            & GSM1003511 is from Bradley Bernstein, Broad and the sample is treated with 100 nM dexamethasone for 1 hour & https://www.encodeproject.org/files/ENCFF874VXV/@@download/ENCFF874VXV.bam ,  https://www.encodeproject.org/files/ENCFF927EWB/@@download/ENCFF927EWB.bam & BAM & More chosen samples from this method (treatment with 100 nM dexamethasone for 1 hour)                             \\\\\n",
       "\\end{tabular}\n"
      ],
      "text/markdown": [
       "\n",
       "A tibble: 6 × 11\n",
       "\n",
       "| Cell Type &lt;chr&gt; | Feature &lt;chr&gt; | Samples &lt;chr&gt; | Source &lt;chr&gt; | Species &lt;chr&gt; | Genome Version &lt;chr&gt; | Laboratory &lt;chr&gt; | Notes &lt;chr&gt; | Download Link &lt;list&gt; | File Type &lt;chr&gt; | Selection Criteria &lt;chr&gt; |\n",
       "|---|---|---|---|---|---|---|---|---|---|---|\n",
       "| A549 | CTCF     | GSM1003582 | ENCODE | Homo sapiens | hg19 | Bradley Bernstein, Broad                            | GSM1003582 is from Bradley Bernstein, Broad and the sample is treated with 100 nM dexamethasone for 1 hour | https://www.encodeproject.org/files/ENCFF631JUR/@@download/ENCFF631JUR.bam ,  https://www.encodeproject.org/files/ENCFF685FVQ/@@download/ENCFF685FVQ.bam | BAM | More samples from this lab; more chosen samples from this method (treatment with 100 nM dexamethasone for 1 hour). |\n",
       "| A549 | EP300    | GSM1010827 | ENCODE | Homo sapiens | hg19 | Myers Lab, Hudson Alpha Institute of Biotechnology. | GSM1010827 is treated with 0.02% ethanol for 1 hour                                                        | https://www.encodeproject.org/files/ENCFF540LLB/@@download/ENCFF540LLB.bam ,  https://www.encodeproject.org/files/ENCFF864VSA/@@download/ENCFF864VSA.bam | BAM | Only choice                                                                                                        |\n",
       "| A549 | H3K27me3 | GSM1003577 | ENCODE | Homo sapiens | hg19 | Bradley Bernstein, Broad                            | GSM1003577 is from Bradley Bernstein, Broad and the sample is treated with 100 nM dexamethasone for 1 hour | https://www.encodeproject.org/files/ENCFF800NPS/@@download/ENCFF800NPS.bam ,  https://www.encodeproject.org/files/ENCFF664RTA/@@download/ENCFF664RTA.bam | BAM | More chosen samples from this method (treatment with 100 nM dexamethasone for 1 hour)                              |\n",
       "| A549 | H3K36me3 | GSM1003494 | ENCODE | Homo sapiens | hg19 | Bradley Bernstein, Broad                            | GSM1003494 is from Bradley Bernstein, Broad and the sample is treated with 100 nM dexamethasone for 1 hour | https://www.encodeproject.org/files/ENCFF386GAK/@@download/ENCFF386GAK.bam ,  https://www.encodeproject.org/files/ENCFF572FCV/@@download/ENCFF572FCV.bam | BAM | More chosen samples from this method (treatment with 100 nM dexamethasone for 1 hour)                              |\n",
       "| A549 | H3K4me1  | GSM1003495 | ENCODE | Homo sapiens | hg19 | Bradley Bernstein, Broad                            | GSM1003495 is from Bradley Bernstein, Broad and the sample is treated with 100 nM dexamethasone for 1 hour | https://www.encodeproject.org/files/ENCFF892UTA/@@download/ENCFF892UTA.bam ,  https://www.encodeproject.org/files/ENCFF000AIE/@@download/ENCFF000AIE.bam,  https://www.encodeproject.org/files/ENCFF739OOI/@@download/ENCFF739OOI.bam,  https://www.encodeproject.org/files/ENCFF000AIG/@@download/ENCFF000AIG.bam | BAM | More chosen samples from this method (treatment with 100 nM dexamethasone for 1 hour)                              |\n",
       "| A549 | H3K4me2  | GSM1003511 | ENCODE | Homo sapiens | hg19 | Bradley Bernstein, Broad                            | GSM1003511 is from Bradley Bernstein, Broad and the sample is treated with 100 nM dexamethasone for 1 hour | https://www.encodeproject.org/files/ENCFF874VXV/@@download/ENCFF874VXV.bam ,  https://www.encodeproject.org/files/ENCFF927EWB/@@download/ENCFF927EWB.bam | BAM | More chosen samples from this method (treatment with 100 nM dexamethasone for 1 hour)                              |\n",
       "\n"
      ],
      "text/plain": [
       "  Cell Type Feature  Samples    Source Species      Genome Version\n",
       "1 A549      CTCF     GSM1003582 ENCODE Homo sapiens hg19          \n",
       "2 A549      EP300    GSM1010827 ENCODE Homo sapiens hg19          \n",
       "3 A549      H3K27me3 GSM1003577 ENCODE Homo sapiens hg19          \n",
       "4 A549      H3K36me3 GSM1003494 ENCODE Homo sapiens hg19          \n",
       "5 A549      H3K4me1  GSM1003495 ENCODE Homo sapiens hg19          \n",
       "6 A549      H3K4me2  GSM1003511 ENCODE Homo sapiens hg19          \n",
       "  Laboratory                                         \n",
       "1 Bradley Bernstein, Broad                           \n",
       "2 Myers Lab, Hudson Alpha Institute of Biotechnology.\n",
       "3 Bradley Bernstein, Broad                           \n",
       "4 Bradley Bernstein, Broad                           \n",
       "5 Bradley Bernstein, Broad                           \n",
       "6 Bradley Bernstein, Broad                           \n",
       "  Notes                                                                                                     \n",
       "1 GSM1003582 is from Bradley Bernstein, Broad and the sample is treated with 100 nM dexamethasone for 1 hour\n",
       "2 GSM1010827 is treated with 0.02% ethanol for 1 hour                                                       \n",
       "3 GSM1003577 is from Bradley Bernstein, Broad and the sample is treated with 100 nM dexamethasone for 1 hour\n",
       "4 GSM1003494 is from Bradley Bernstein, Broad and the sample is treated with 100 nM dexamethasone for 1 hour\n",
       "5 GSM1003495 is from Bradley Bernstein, Broad and the sample is treated with 100 nM dexamethasone for 1 hour\n",
       "6 GSM1003511 is from Bradley Bernstein, Broad and the sample is treated with 100 nM dexamethasone for 1 hour\n",
       "  Download Link                                                                                                                                                                                                                                                                                                     \n",
       "1 https://www.encodeproject.org/files/ENCFF631JUR/@@download/ENCFF631JUR.bam ,  https://www.encodeproject.org/files/ENCFF685FVQ/@@download/ENCFF685FVQ.bam                                                                                                                                                          \n",
       "2 https://www.encodeproject.org/files/ENCFF540LLB/@@download/ENCFF540LLB.bam ,  https://www.encodeproject.org/files/ENCFF864VSA/@@download/ENCFF864VSA.bam                                                                                                                                                          \n",
       "3 https://www.encodeproject.org/files/ENCFF800NPS/@@download/ENCFF800NPS.bam ,  https://www.encodeproject.org/files/ENCFF664RTA/@@download/ENCFF664RTA.bam                                                                                                                                                          \n",
       "4 https://www.encodeproject.org/files/ENCFF386GAK/@@download/ENCFF386GAK.bam ,  https://www.encodeproject.org/files/ENCFF572FCV/@@download/ENCFF572FCV.bam                                                                                                                                                          \n",
       "5 https://www.encodeproject.org/files/ENCFF892UTA/@@download/ENCFF892UTA.bam ,  https://www.encodeproject.org/files/ENCFF000AIE/@@download/ENCFF000AIE.bam,  https://www.encodeproject.org/files/ENCFF739OOI/@@download/ENCFF739OOI.bam,  https://www.encodeproject.org/files/ENCFF000AIG/@@download/ENCFF000AIG.bam\n",
       "6 https://www.encodeproject.org/files/ENCFF874VXV/@@download/ENCFF874VXV.bam ,  https://www.encodeproject.org/files/ENCFF927EWB/@@download/ENCFF927EWB.bam                                                                                                                                                          \n",
       "  File Type\n",
       "1 BAM      \n",
       "2 BAM      \n",
       "3 BAM      \n",
       "4 BAM      \n",
       "5 BAM      \n",
       "6 BAM      \n",
       "  Selection Criteria                                                                                                \n",
       "1 More samples from this lab; more chosen samples from this method (treatment with 100 nM dexamethasone for 1 hour).\n",
       "2 Only choice                                                                                                       \n",
       "3 More chosen samples from this method (treatment with 100 nM dexamethasone for 1 hour)                             \n",
       "4 More chosen samples from this method (treatment with 100 nM dexamethasone for 1 hour)                             \n",
       "5 More chosen samples from this method (treatment with 100 nM dexamethasone for 1 hour)                             \n",
       "6 More chosen samples from this method (treatment with 100 nM dexamethasone for 1 hour)                             "
      ]
     },
     "metadata": {},
     "output_type": "display_data"
    }
   ],
   "source": [
    "## Install package to read excel file and load library.\n",
    "if (!require(readxl)) install.packages(\"readxl\", dependencies = TRUE)\n",
    "library(readxl)\n",
    "  \n",
    "## Import the master table.\n",
    "masterData <- read_excel(\"siftedData.xlsx\")\n",
    "\n",
    "## Identifying individual download links for the features\n",
    "masterData$`Download Link` <- strsplit(masterData$`Download Link`, \",\")\n",
    "\n",
    "## For consistency and cleanliness, let's remove whitespaces from the column.\n",
    "  for (i in 1: nrow(masterData))\n",
    "  {\n",
    "    for (j in 1: length(masterData$`Download Link`[[i]]))\n",
    "    {\n",
    "     lapply(masterData$`Download Link`[[i]][j], trimws)\n",
    "    }\n",
    "  }\n",
    "\n",
    "head(masterData)"
   ]
  },
  {
   "cell_type": "code",
   "execution_count": 2,
   "metadata": {},
   "outputs": [
    {
     "data": {
      "text/html": [
       "<style>\n",
       ".list-inline {list-style: none; margin:0; padding: 0}\n",
       ".list-inline>li {display: inline-block}\n",
       ".list-inline>li:not(:last-child)::after {content: \"\\00b7\"; padding: 0 .5ex}\n",
       "</style>\n",
       "<ol class=list-inline><li>'A549'</li><li>'H1_hESC'</li><li>'HeLa_S3'</li><li>'IMR90'</li><li>'K562'</li><li>'MCF7'</li></ol>\n"
      ],
      "text/latex": [
       "\\begin{enumerate*}\n",
       "\\item 'A549'\n",
       "\\item 'H1\\_hESC'\n",
       "\\item 'HeLa\\_S3'\n",
       "\\item 'IMR90'\n",
       "\\item 'K562'\n",
       "\\item 'MCF7'\n",
       "\\end{enumerate*}\n"
      ],
      "text/markdown": [
       "1. 'A549'\n",
       "2. 'H1_hESC'\n",
       "3. 'HeLa_S3'\n",
       "4. 'IMR90'\n",
       "5. 'K562'\n",
       "6. 'MCF7'\n",
       "\n",
       "\n"
      ],
      "text/plain": [
       "[1] \"A549\"    \"H1_hESC\" \"HeLa_S3\" \"IMR90\"   \"K562\"    \"MCF7\"   "
      ]
     },
     "metadata": {},
     "output_type": "display_data"
    }
   ],
   "source": [
    "## Identifying cell-types and features\n",
    "cells <- unique(masterData$`Cell Type`)\n",
    "cells"
   ]
  },
  {
   "cell_type": "code",
   "execution_count": 3,
   "metadata": {},
   "outputs": [
    {
     "data": {
      "text/html": [
       "<style>\n",
       ".list-inline {list-style: none; margin:0; padding: 0}\n",
       ".list-inline>li {display: inline-block}\n",
       ".list-inline>li:not(:last-child)::after {content: \"\\00b7\"; padding: 0 .5ex}\n",
       "</style>\n",
       "<ol class=list-inline><li>'CTCF'</li><li>'EP300'</li><li>'H3K27me3'</li><li>'H3K36me3'</li><li>'H3K4me1'</li><li>'H3K4me2'</li><li>'H3K4me3'</li><li>'H3K9ac'</li><li>'H3K9me3'</li><li>'RAD21'</li><li>'RNAPol2'</li><li>'RNAPol3'</li><li>'RNA-Seq'</li><li>'YY1'</li></ol>\n"
      ],
      "text/latex": [
       "\\begin{enumerate*}\n",
       "\\item 'CTCF'\n",
       "\\item 'EP300'\n",
       "\\item 'H3K27me3'\n",
       "\\item 'H3K36me3'\n",
       "\\item 'H3K4me1'\n",
       "\\item 'H3K4me2'\n",
       "\\item 'H3K4me3'\n",
       "\\item 'H3K9ac'\n",
       "\\item 'H3K9me3'\n",
       "\\item 'RAD21'\n",
       "\\item 'RNAPol2'\n",
       "\\item 'RNAPol3'\n",
       "\\item 'RNA-Seq'\n",
       "\\item 'YY1'\n",
       "\\end{enumerate*}\n"
      ],
      "text/markdown": [
       "1. 'CTCF'\n",
       "2. 'EP300'\n",
       "3. 'H3K27me3'\n",
       "4. 'H3K36me3'\n",
       "5. 'H3K4me1'\n",
       "6. 'H3K4me2'\n",
       "7. 'H3K4me3'\n",
       "8. 'H3K9ac'\n",
       "9. 'H3K9me3'\n",
       "10. 'RAD21'\n",
       "11. 'RNAPol2'\n",
       "12. 'RNAPol3'\n",
       "13. 'RNA-Seq'\n",
       "14. 'YY1'\n",
       "\n",
       "\n"
      ],
      "text/plain": [
       " [1] \"CTCF\"     \"EP300\"    \"H3K27me3\" \"H3K36me3\" \"H3K4me1\"  \"H3K4me2\" \n",
       " [7] \"H3K4me3\"  \"H3K9ac\"   \"H3K9me3\"  \"RAD21\"    \"RNAPol2\"  \"RNAPol3\" \n",
       "[13] \"RNA-Seq\"  \"YY1\"     "
      ]
     },
     "metadata": {},
     "output_type": "display_data"
    }
   ],
   "source": [
    "features <- unique(masterData$Feature)\n",
    "features"
   ]
  },
  {
   "cell_type": "markdown",
   "metadata": {},
   "source": [
    "### Initializing Data Store"
   ]
  },
  {
   "cell_type": "code",
   "execution_count": 9,
   "metadata": {},
   "outputs": [],
   "source": [
    "## We shall create a directory named 'GREG' that will house all the data related to all the features associated with\n",
    "## each cell type, as defined above.\n",
    "\n",
    "# current project directory as working directory.\n",
    "setwd(\".\")\n",
    "\n",
    "# Parent directory\n",
    "dir.create(\"GREG\")\n",
    "\n",
    "# Create subfolders by the name of cell-types. \n",
    "for (i in 1:length(cells))\n",
    "  {\n",
    "    dir.create(paste0(\"./GREG/\",cells[i]))\n",
    "  }\n",
    "\n",
    "\n",
    "# Create sub-subfolders by the name of features.\n",
    "for (i in 1:length(cells))\n",
    "  {\n",
    "    for(j in 1:length(features))\n",
    "      {\n",
    "        dir.create(paste0(paste0(\"./GREG/\",cells[i]),paste0(\"/\",features[j])))\n",
    "      }\n",
    "  }"
   ]
  },
  {
   "cell_type": "markdown",
   "metadata": {},
   "source": [
    "The *tree* command helps visualize a directory structure. It is available by default in linux systems, while in MacOS it can be explicitly installed with *brew*; the syntax is **$ brew install tree**. "
   ]
  },
  {
   "cell_type": "code",
   "execution_count": 10,
   "metadata": {},
   "outputs": [],
   "source": [
    "system(\"tree\")"
   ]
  },
  {
   "cell_type": "markdown",
   "metadata": {},
   "source": [
    "![](directoryStructureGREG.png)"
   ]
  },
  {
   "cell_type": "markdown",
   "metadata": {},
   "source": [
    "Now that we have the directory structure in place, we shall commence with the downloading of the relevant alignment files, to their appropriate location. The files can be referenced from the column *Download Link* in the table *masterData*. Note that there are **NA** instances in the table, that'll be dealt in accordance. "
   ]
  },
  {
   "cell_type": "code",
   "execution_count": null,
   "metadata": {},
   "outputs": [],
   "source": [
    "source(\"./projectFunctions/downloadBAMfiles.R\")\n",
    "\n",
    "## This function takes two input values, one is the cell-type and the other is the feature. If the user wishes to \n",
    "## download BAM files for a particular pair of cell-type and feature, the following code (for example) will do that\n",
    "## and store the files in the appropriate folder location.\n",
    "\n",
    "# downloadBAMfiles(\"A549\", \"RAD21\")\n",
    "\n",
    "## Alternatively, if the user would like to download all files relative to all cell-types and all features \n",
    "## (as enlisted in the table above), we can structure the code like this.\n",
    "\n",
    "for (cell in cells)\n",
    "  {\n",
    "    for (feature in features)\n",
    "    {\n",
    "        downloadBAMfiles(cell, feature)\n",
    "    }\n",
    "}"
   ]
  },
  {
   "cell_type": "markdown",
   "metadata": {},
   "source": [
    "## Setting up Target Genomic Regions"
   ]
  },
  {
   "cell_type": "markdown",
   "metadata": {},
   "source": [
    "In cognizance to [GREG](http://www.dx.doi.org/10.1093/database/baz162), we define genomic regions with a 2 kilobase bin size. These shall be the pivots corresponding to which the features with read counts shall be hinged. Additionally, we want to make our BED file [1-based](http://genome.ucsc.edu/FAQ/FAQformat.html#format1), to align with the format in GREG. "
   ]
  },
  {
   "cell_type": "code",
   "execution_count": 2,
   "metadata": {},
   "outputs": [
    {
     "name": "stderr",
     "output_type": "stream",
     "text": [
      "Bioconductor version 3.11 (BiocManager 1.30.10), R 4.0.2 (2020-06-22)\n",
      "\n",
      "Installing package(s) 'BSgenome.Hsapiens.UCSC.hg19'\n",
      "\n",
      "installing the source package ‘BSgenome.Hsapiens.UCSC.hg19’\n",
      "\n",
      "\n",
      "Old packages: 'LOLA', 'RcppArmadillo', 'TTR', 'bit64', 'callr', 'conquer',\n",
      "  'glue', 'inline', 'jsonlite', 'mgcv', 'mnormt', 'processx', 'tidyr', 'vctrs',\n",
      "  'zip'\n",
      "\n",
      "Loading required package: BSgenome\n",
      "\n",
      "Loading required package: BiocGenerics\n",
      "\n",
      "Loading required package: parallel\n",
      "\n",
      "\n",
      "Attaching package: ‘BiocGenerics’\n",
      "\n",
      "\n",
      "The following objects are masked from ‘package:parallel’:\n",
      "\n",
      "    clusterApply, clusterApplyLB, clusterCall, clusterEvalQ,\n",
      "    clusterExport, clusterMap, parApply, parCapply, parLapply,\n",
      "    parLapplyLB, parRapply, parSapply, parSapplyLB\n",
      "\n",
      "\n",
      "The following objects are masked from ‘package:stats’:\n",
      "\n",
      "    IQR, mad, sd, var, xtabs\n",
      "\n",
      "\n",
      "The following objects are masked from ‘package:base’:\n",
      "\n",
      "    Filter, Find, Map, Position, Reduce, anyDuplicated, append,\n",
      "    as.data.frame, basename, cbind, colnames, dirname, do.call,\n",
      "    duplicated, eval, evalq, get, grep, grepl, intersect, is.unsorted,\n",
      "    lapply, mapply, match, mget, order, paste, pmax, pmax.int, pmin,\n",
      "    pmin.int, rank, rbind, rownames, sapply, setdiff, sort, table,\n",
      "    tapply, union, unique, unsplit, which, which.max, which.min\n",
      "\n",
      "\n",
      "Loading required package: S4Vectors\n",
      "\n",
      "Loading required package: stats4\n",
      "\n",
      "\n",
      "Attaching package: ‘S4Vectors’\n",
      "\n",
      "\n",
      "The following object is masked from ‘package:base’:\n",
      "\n",
      "    expand.grid\n",
      "\n",
      "\n",
      "Loading required package: IRanges\n",
      "\n",
      "Loading required package: GenomeInfoDb\n",
      "\n",
      "Loading required package: GenomicRanges\n",
      "\n",
      "Loading required package: Biostrings\n",
      "\n",
      "Loading required package: XVector\n",
      "\n",
      "\n",
      "Attaching package: ‘Biostrings’\n",
      "\n",
      "\n",
      "The following object is masked from ‘package:base’:\n",
      "\n",
      "    strsplit\n",
      "\n",
      "\n",
      "Loading required package: rtracklayer\n",
      "\n"
     ]
    }
   ],
   "source": [
    "## Source the UCSC library for Homo sapiens genome, version hg19.\n",
    "BiocManager::install(\"BSgenome.Hsapiens.UCSC.hg19\")\n",
    "library(BSgenome.Hsapiens.UCSC.hg19)"
   ]
  },
  {
   "cell_type": "markdown",
   "metadata": {},
   "source": [
    "From the chromosome size definitions available in the loaded package, we create an index as follows. This shall be the premises on which our genomic bins shall be carved out."
   ]
  },
  {
   "cell_type": "code",
   "execution_count": 4,
   "metadata": {},
   "outputs": [
    {
     "data": {
      "text/plain": [
       "Seqinfo object with 298 sequences (2 circular) from hg19 genome:\n",
       "  seqnames           seqlengths isCircular genome\n",
       "  chr1                249250621      FALSE   hg19\n",
       "  chr2                243199373      FALSE   hg19\n",
       "  chr3                198022430      FALSE   hg19\n",
       "  chr4                191154276      FALSE   hg19\n",
       "  chr5                180915260      FALSE   hg19\n",
       "  ...                       ...        ...    ...\n",
       "  chr21_gl383580_alt      74652      FALSE   hg19\n",
       "  chr21_gl383581_alt     116690      FALSE   hg19\n",
       "  chr22_gl383582_alt     162811      FALSE   hg19\n",
       "  chr22_gl383583_alt      96924      FALSE   hg19\n",
       "  chr22_kb663609_alt      74013      FALSE   hg19"
      ]
     },
     "metadata": {},
     "output_type": "display_data"
    }
   ],
   "source": [
    "si <- seqinfo(BSgenome.Hsapiens.UCSC.hg19)\n",
    "si"
   ]
  },
  {
   "cell_type": "markdown",
   "metadata": {},
   "source": [
    "The function **tileGenome** allows to structure a definitive GenomicRanges object."
   ]
  },
  {
   "cell_type": "code",
   "execution_count": 5,
   "metadata": {},
   "outputs": [
    {
     "data": {
      "text/plain": [
       "GRanges object with 1617579 ranges and 0 metadata columns:\n",
       "                      seqnames      ranges strand\n",
       "                         <Rle>   <IRanges>  <Rle>\n",
       "        [1]               chr1      1-2000      *\n",
       "        [2]               chr1   2001-4000      *\n",
       "        [3]               chr1   4001-6000      *\n",
       "        [4]               chr1   6001-8000      *\n",
       "        [5]               chr1  8001-10000      *\n",
       "        ...                ...         ...    ...\n",
       "  [1617575] chr22_kb663609_alt 66001-68000      *\n",
       "  [1617576] chr22_kb663609_alt 68001-70000      *\n",
       "  [1617577] chr22_kb663609_alt 70001-72000      *\n",
       "  [1617578] chr22_kb663609_alt 72001-74000      *\n",
       "  [1617579] chr22_kb663609_alt 74001-74013      *\n",
       "  -------\n",
       "  seqinfo: 298 sequences (2 circular) from hg19 genome"
      ]
     },
     "metadata": {},
     "output_type": "display_data"
    }
   ],
   "source": [
    "Bins2k <-  tileGenome(si, tilewidth = 2000, cut.last.tile.in.chrom = TRUE)\n",
    "Bins2k"
   ]
  },
  {
   "cell_type": "code",
   "execution_count": 4,
   "metadata": {},
   "outputs": [
    {
     "data": {
      "text/html": [
       "<table>\n",
       "<caption>A data.frame: 6 × 3</caption>\n",
       "<thead>\n",
       "\t<tr><th></th><th scope=col>chrom</th><th scope=col>start</th><th scope=col>end</th></tr>\n",
       "\t<tr><th></th><th scope=col>&lt;fct&gt;</th><th scope=col>&lt;int&gt;</th><th scope=col>&lt;int&gt;</th></tr>\n",
       "</thead>\n",
       "<tbody>\n",
       "\t<tr><th scope=row>1</th><td>chr1</td><td>    1</td><td> 2000</td></tr>\n",
       "\t<tr><th scope=row>2</th><td>chr1</td><td> 2001</td><td> 4000</td></tr>\n",
       "\t<tr><th scope=row>3</th><td>chr1</td><td> 4001</td><td> 6000</td></tr>\n",
       "\t<tr><th scope=row>4</th><td>chr1</td><td> 6001</td><td> 8000</td></tr>\n",
       "\t<tr><th scope=row>5</th><td>chr1</td><td> 8001</td><td>10000</td></tr>\n",
       "\t<tr><th scope=row>6</th><td>chr1</td><td>10001</td><td>12000</td></tr>\n",
       "</tbody>\n",
       "</table>\n"
      ],
      "text/latex": [
       "A data.frame: 6 × 3\n",
       "\\begin{tabular}{r|lll}\n",
       "  & chrom & start & end\\\\\n",
       "  & <fct> & <int> & <int>\\\\\n",
       "\\hline\n",
       "\t1 & chr1 &     1 &  2000\\\\\n",
       "\t2 & chr1 &  2001 &  4000\\\\\n",
       "\t3 & chr1 &  4001 &  6000\\\\\n",
       "\t4 & chr1 &  6001 &  8000\\\\\n",
       "\t5 & chr1 &  8001 & 10000\\\\\n",
       "\t6 & chr1 & 10001 & 12000\\\\\n",
       "\\end{tabular}\n"
      ],
      "text/markdown": [
       "\n",
       "A data.frame: 6 × 3\n",
       "\n",
       "| <!--/--> | chrom &lt;fct&gt; | start &lt;int&gt; | end &lt;int&gt; |\n",
       "|---|---|---|---|\n",
       "| 1 | chr1 |     1 |  2000 |\n",
       "| 2 | chr1 |  2001 |  4000 |\n",
       "| 3 | chr1 |  4001 |  6000 |\n",
       "| 4 | chr1 |  6001 |  8000 |\n",
       "| 5 | chr1 |  8001 | 10000 |\n",
       "| 6 | chr1 | 10001 | 12000 |\n",
       "\n"
      ],
      "text/plain": [
       "  chrom start end  \n",
       "1 chr1      1  2000\n",
       "2 chr1   2001  4000\n",
       "3 chr1   4001  6000\n",
       "4 chr1   6001  8000\n",
       "5 chr1   8001 10000\n",
       "6 chr1  10001 12000"
      ]
     },
     "metadata": {},
     "output_type": "display_data"
    }
   ],
   "source": [
    "targetBED <- as.data.frame(Bins2k)\n",
    "targetBED <- targetBED[, 1:3]\n",
    "colnames(targetBED) <- c(\"chrom\", \"start\", \"end\")\n",
    "head(targetBED)\n",
    "write.table(targetBED, file = \"hg19_2k_bins.bed\", sep = \"\\t\", quote = FALSE, col.names = FALSE, row.names = FALSE)"
   ]
  },
  {
   "cell_type": "markdown",
   "metadata": {},
   "source": [
    "These are the regions where the read counts need to be mapped, and will be in use with the *computeMatrix* execution down the line."
   ]
  },
  {
   "cell_type": "markdown",
   "metadata": {},
   "source": [
    "## Feature Files "
   ]
  },
  {
   "cell_type": "markdown",
   "metadata": {},
   "source": [
    "For exemplifying, let's pick up ChIP-Seq data for epigenetic marks - H3K4me1, H3K4me2, H3K4me3, and H3K27ac for the H1 hESC cell line.(WIP; More instances to follow)"
   ]
  },
  {
   "cell_type": "markdown",
   "metadata": {},
   "source": [
    "![](siftingBAM.jpg)"
   ]
  },
  {
   "cell_type": "markdown",
   "metadata": {},
   "source": [
    "Since our desired function for mapping coverages to the genomic bins, mandates execution on atleast two files, the catch here is that there could be samples where only single replicate exists. Also, since we plan to average read counts from multiple replicates eventually, we shall create a copy of the alignment file if it exists in singleton. "
   ]
  },
  {
   "cell_type": "code",
   "execution_count": 4,
   "metadata": {},
   "outputs": [],
   "source": [
    "## The following script examines the feature files (BAM files in subfolders under each cell-type). \n",
    "## If they exist in replicates (two or more), then we can proceed with multiBAMSummary as is, else it'll create a copy\n",
    "## of the single BAM file.\n",
    "\n",
    "## system(\"bash ./terminalScripts/adjustBAMFiles.sh <path>)\n",
    "\n",
    "for (cell in cells)\n",
    "  {\n",
    "    for (feature in features)\n",
    "    {\n",
    "      ## Run adjustBAMFiles.sh\n",
    "       system(paste(\"bash ./terminalScripts/adjustBAMFiles.sh\",\n",
    "       paste(paste0(paste0(\"./GREG/\",cell), paste0(\"/\", feature)))))\n",
    "    }\n",
    "  }"
   ]
  },
  {
   "cell_type": "markdown",
   "metadata": {},
   "source": [
    "The BAM files need to be sorted so that they follow a continuous order of locationing in the genome. The script *samtoolsSortRun.sh* will help us do that."
   ]
  },
  {
   "cell_type": "code",
   "execution_count": 4,
   "metadata": {},
   "outputs": [],
   "source": [
    "## export PATH=$PATH:<path/to/samtools>\n",
    "\n",
    "## system(\"bash ./terminalScripts/samtoolsSortRun.sh <path>\")\n",
    "\n",
    "for (cell in cells)\n",
    "  {\n",
    "    for (feature in features)\n",
    "    {\n",
    "      ## Run samtoolsSortRun.sh\n",
    "        system(paste(\"bash ./terminalScripts/samtoolsSortRun.sh\",\n",
    "        paste(paste0(paste0(\"./GREG/\",cell), paste0(\"/\", feature, \"/*.bam\")))))\n",
    "    }\n",
    "  }"
   ]
  },
  {
   "cell_type": "markdown",
   "metadata": {},
   "source": [
    "Next, these BAM files need to be indexed. The script *samtoolsIndexRun.sh* helps just do that. The path to the BAM files is to be specified as an argument to this script. There could be a single or multiple BAM files available.\n",
    "If there are multiple BAM files in a common folder, include the argument as \"*.bam\". Alternatively, if you have BAM files in different folders, they can be fed to the script as under, seperated with a single space. Note that the index files are created in the same location as the BAM file. [They] just need to exist; we hardly require to process them."
   ]
  },
  {
   "cell_type": "code",
   "execution_count": 5,
   "metadata": {},
   "outputs": [],
   "source": [
    "## export PATH=$PATH:<path/to/samtools>\n",
    "\n",
    "## system(\"bash ./terminalScripts/samtoolsIndexRun.sh <path>\")\n",
    "\n",
    "for (cell in cells)\n",
    "  {\n",
    "    for (feature in features)\n",
    "    {\n",
    "      ## Run samtoolsIndexRun.sh\n",
    "       system(paste(\"bash ./terminalScripts/samtoolsIndexRun.sh\",\n",
    "       paste(paste0(paste0(\"./GREG/\",cell), paste0(\"/\", feature, \"/*.bam\")))))\n",
    "    }\n",
    "  }"
   ]
  },
  {
   "cell_type": "markdown",
   "metadata": {},
   "source": [
    "Now that we have the index files along, we proceed towards getting read counts for our defined bin-size. We achieve this via deeptools suite, a function called *multiBAMSummary*."
   ]
  },
  {
   "cell_type": "code",
   "execution_count": null,
   "metadata": {},
   "outputs": [],
   "source": [
    "## The bash script can be viewed at the terminal.\n",
    "## Another instance of the same script - \"deepToolsBAMSummaryGREG.sh\" can be used to take as input all BAM files\n",
    "## representing replicates in a feature (same folder) and output the read counts over an interval of 2Kb.\n",
    "\n",
    "for (cell in cells)\n",
    "  {\n",
    "    for (feature in features)\n",
    "    {\n",
    "      ## Run deepToolsmultiBAMSummaryGREG.sh\n",
    "        system(\"bash ./terminalScripts/deepToolsmultiBAMSummaryGREG.sh\", \n",
    "       paste0(\"./GREG/\",cell, \"/\", feature), \n",
    "               intern = FALSE, \n",
    "               ignore.stdout = FALSE, \n",
    "               ignore.stderr = FALSE, \n",
    "               wait = TRUE)\n",
    "    }\n",
    "  }"
   ]
  },
  {
   "cell_type": "markdown",
   "metadata": {},
   "source": [
    "Having the read counts for all replicates, for all features, and for all cell-types, we shall now proceed with assembling output of *multiBamSummary*(*readCounts.tab*) from each feature, merging it together for each cell-type, and generate a table for normalized (BPM) read counts. The function **postProcessBamFiles** aids to do just that."
   ]
  },
  {
   "cell_type": "code",
   "execution_count": null,
   "metadata": {},
   "outputs": [],
   "source": [
    "source(\"./projectFunctions/postProcessBamFiles.R\") ## loading function definition\n",
    "\n",
    "install.packages(\"plyr\") # installing package for use with the function.\n",
    "\n",
    "for (cell in cells)\n",
    "    {\n",
    "      postProcessBamFiles(cell) # for all cell-types\n",
    "    }"
   ]
  },
  {
   "cell_type": "markdown",
   "metadata": {},
   "source": [
    "We examine the proportion at which reads are observed in a given bin. Basically we want to observe reads per million per nucleotide (RPM), or, as deepTools define it, [Bins Per Million (BPM)](https://deeptools.readthedocs.io/en/develop/content/tools/bamCoverage.html) mapped reads, same as TPM in RNA-seq. We calculate the number of reads that fall into a bin divided by the number of reads in the feature data set, then multiply by 10^6 to get per million. In this way you get an RPM track of 2 kilobase bins covering the genome, thus samples with different numbers of reads become comparable. "
   ]
  },
  {
   "cell_type": "markdown",
   "metadata": {},
   "source": [
    "The above function saves the bin-intervals and the count matrix for all features, for each cell-type in its home folder. It must be noted that not all cell-types shall have homogeneity in the number of features (since source files are available for selected features currently), and the number of bins (a valid quantum of score might not be available for selected bins as emanated from *multiBamSummary*). Let us recall the ones for **A549** and **K562** for example.  "
   ]
  },
  {
   "cell_type": "code",
   "execution_count": 15,
   "metadata": {},
   "outputs": [
    {
     "data": {
      "text/html": [
       "<table>\n",
       "<caption>A data.frame: 6 × 12</caption>\n",
       "<thead>\n",
       "\t<tr><th></th><th scope=col>CTCF</th><th scope=col>EP300</th><th scope=col>H3K27me3</th><th scope=col>H3K36me3</th><th scope=col>H3K4me1</th><th scope=col>H3K4me2</th><th scope=col>H3K4me3</th><th scope=col>H3K9ac</th><th scope=col>H3K9me3</th><th scope=col>RAD21</th><th scope=col>RNAPol2</th><th scope=col>YY1</th></tr>\n",
       "\t<tr><th></th><th scope=col>&lt;dbl&gt;</th><th scope=col>&lt;dbl&gt;</th><th scope=col>&lt;dbl&gt;</th><th scope=col>&lt;dbl&gt;</th><th scope=col>&lt;dbl&gt;</th><th scope=col>&lt;dbl&gt;</th><th scope=col>&lt;dbl&gt;</th><th scope=col>&lt;dbl&gt;</th><th scope=col>&lt;dbl&gt;</th><th scope=col>&lt;dbl&gt;</th><th scope=col>&lt;dbl&gt;</th><th scope=col>&lt;dbl&gt;</th></tr>\n",
       "</thead>\n",
       "<tbody>\n",
       "\t<tr><th scope=row>1</th><td>0</td><td>0</td><td>0.00000000</td><td>0.00000000</td><td>0.00000</td><td>0</td><td>0.00000000</td><td>0.000000</td><td>0.00000000</td><td>0.0000000</td><td>0.00000000</td><td>0.00000000</td></tr>\n",
       "\t<tr><th scope=row>2</th><td>0</td><td>0</td><td>0.00000000</td><td>0.00000000</td><td>0.00000</td><td>0</td><td>0.00000000</td><td>0.000000</td><td>0.00000000</td><td>0.0000000</td><td>0.00000000</td><td>0.00000000</td></tr>\n",
       "\t<tr><th scope=row>3</th><td>0</td><td>0</td><td>0.00000000</td><td>0.00000000</td><td>0.00000</td><td>0</td><td>0.00000000</td><td>0.000000</td><td>0.00000000</td><td>0.0000000</td><td>0.00000000</td><td>0.00000000</td></tr>\n",
       "\t<tr><th scope=row>4</th><td>0</td><td>0</td><td>0.00000000</td><td>0.00000000</td><td>0.00000</td><td>0</td><td>0.00000000</td><td>0.000000</td><td>0.00000000</td><td>0.0000000</td><td>0.00000000</td><td>0.00000000</td></tr>\n",
       "\t<tr><th scope=row>5</th><td>0</td><td>0</td><td>0.00000000</td><td>0.00000000</td><td>0.00000</td><td>0</td><td>0.00000000</td><td>0.000000</td><td>0.00000000</td><td>0.0000000</td><td>0.00000000</td><td>0.00000000</td></tr>\n",
       "\t<tr><th scope=row>6</th><td>0</td><td>0</td><td>0.02727825</td><td>0.02613314</td><td>1.58534</td><td>0</td><td>0.03331304</td><td>1.537907</td><td>0.02891425</td><td>0.1631014</td><td>0.06050439</td><td>0.05796767</td></tr>\n",
       "</tbody>\n",
       "</table>\n"
      ],
      "text/latex": [
       "A data.frame: 6 × 12\n",
       "\\begin{tabular}{r|llllllllllll}\n",
       "  & CTCF & EP300 & H3K27me3 & H3K36me3 & H3K4me1 & H3K4me2 & H3K4me3 & H3K9ac & H3K9me3 & RAD21 & RNAPol2 & YY1\\\\\n",
       "  & <dbl> & <dbl> & <dbl> & <dbl> & <dbl> & <dbl> & <dbl> & <dbl> & <dbl> & <dbl> & <dbl> & <dbl>\\\\\n",
       "\\hline\n",
       "\t1 & 0 & 0 & 0.00000000 & 0.00000000 & 0.00000 & 0 & 0.00000000 & 0.000000 & 0.00000000 & 0.0000000 & 0.00000000 & 0.00000000\\\\\n",
       "\t2 & 0 & 0 & 0.00000000 & 0.00000000 & 0.00000 & 0 & 0.00000000 & 0.000000 & 0.00000000 & 0.0000000 & 0.00000000 & 0.00000000\\\\\n",
       "\t3 & 0 & 0 & 0.00000000 & 0.00000000 & 0.00000 & 0 & 0.00000000 & 0.000000 & 0.00000000 & 0.0000000 & 0.00000000 & 0.00000000\\\\\n",
       "\t4 & 0 & 0 & 0.00000000 & 0.00000000 & 0.00000 & 0 & 0.00000000 & 0.000000 & 0.00000000 & 0.0000000 & 0.00000000 & 0.00000000\\\\\n",
       "\t5 & 0 & 0 & 0.00000000 & 0.00000000 & 0.00000 & 0 & 0.00000000 & 0.000000 & 0.00000000 & 0.0000000 & 0.00000000 & 0.00000000\\\\\n",
       "\t6 & 0 & 0 & 0.02727825 & 0.02613314 & 1.58534 & 0 & 0.03331304 & 1.537907 & 0.02891425 & 0.1631014 & 0.06050439 & 0.05796767\\\\\n",
       "\\end{tabular}\n"
      ],
      "text/markdown": [
       "\n",
       "A data.frame: 6 × 12\n",
       "\n",
       "| <!--/--> | CTCF &lt;dbl&gt; | EP300 &lt;dbl&gt; | H3K27me3 &lt;dbl&gt; | H3K36me3 &lt;dbl&gt; | H3K4me1 &lt;dbl&gt; | H3K4me2 &lt;dbl&gt; | H3K4me3 &lt;dbl&gt; | H3K9ac &lt;dbl&gt; | H3K9me3 &lt;dbl&gt; | RAD21 &lt;dbl&gt; | RNAPol2 &lt;dbl&gt; | YY1 &lt;dbl&gt; |\n",
       "|---|---|---|---|---|---|---|---|---|---|---|---|---|\n",
       "| 1 | 0 | 0 | 0.00000000 | 0.00000000 | 0.00000 | 0 | 0.00000000 | 0.000000 | 0.00000000 | 0.0000000 | 0.00000000 | 0.00000000 |\n",
       "| 2 | 0 | 0 | 0.00000000 | 0.00000000 | 0.00000 | 0 | 0.00000000 | 0.000000 | 0.00000000 | 0.0000000 | 0.00000000 | 0.00000000 |\n",
       "| 3 | 0 | 0 | 0.00000000 | 0.00000000 | 0.00000 | 0 | 0.00000000 | 0.000000 | 0.00000000 | 0.0000000 | 0.00000000 | 0.00000000 |\n",
       "| 4 | 0 | 0 | 0.00000000 | 0.00000000 | 0.00000 | 0 | 0.00000000 | 0.000000 | 0.00000000 | 0.0000000 | 0.00000000 | 0.00000000 |\n",
       "| 5 | 0 | 0 | 0.00000000 | 0.00000000 | 0.00000 | 0 | 0.00000000 | 0.000000 | 0.00000000 | 0.0000000 | 0.00000000 | 0.00000000 |\n",
       "| 6 | 0 | 0 | 0.02727825 | 0.02613314 | 1.58534 | 0 | 0.03331304 | 1.537907 | 0.02891425 | 0.1631014 | 0.06050439 | 0.05796767 |\n",
       "\n"
      ],
      "text/plain": [
       "  CTCF EP300 H3K27me3   H3K36me3   H3K4me1 H3K4me2 H3K4me3    H3K9ac  \n",
       "1 0    0     0.00000000 0.00000000 0.00000 0       0.00000000 0.000000\n",
       "2 0    0     0.00000000 0.00000000 0.00000 0       0.00000000 0.000000\n",
       "3 0    0     0.00000000 0.00000000 0.00000 0       0.00000000 0.000000\n",
       "4 0    0     0.00000000 0.00000000 0.00000 0       0.00000000 0.000000\n",
       "5 0    0     0.00000000 0.00000000 0.00000 0       0.00000000 0.000000\n",
       "6 0    0     0.02727825 0.02613314 1.58534 0       0.03331304 1.537907\n",
       "  H3K9me3    RAD21     RNAPol2    YY1       \n",
       "1 0.00000000 0.0000000 0.00000000 0.00000000\n",
       "2 0.00000000 0.0000000 0.00000000 0.00000000\n",
       "3 0.00000000 0.0000000 0.00000000 0.00000000\n",
       "4 0.00000000 0.0000000 0.00000000 0.00000000\n",
       "5 0.00000000 0.0000000 0.00000000 0.00000000\n",
       "6 0.02891425 0.1631014 0.06050439 0.05796767"
      ]
     },
     "metadata": {},
     "output_type": "display_data"
    }
   ],
   "source": [
    "a549 <- read.table(\"./GREG/A549/normalizedReads.txt\", header = TRUE)\n",
    "head(a549)"
   ]
  },
  {
   "cell_type": "code",
   "execution_count": 19,
   "metadata": {},
   "outputs": [
    {
     "data": {
      "text/html": [
       "1547861"
      ],
      "text/latex": [
       "1547861"
      ],
      "text/markdown": [
       "1547861"
      ],
      "text/plain": [
       "[1] 1547861"
      ]
     },
     "metadata": {},
     "output_type": "display_data"
    }
   ],
   "source": [
    "nrow(a549)"
   ]
  },
  {
   "cell_type": "code",
   "execution_count": 18,
   "metadata": {},
   "outputs": [
    {
     "data": {
      "text/html": [
       "<table>\n",
       "<caption>A data.frame: 6 × 3</caption>\n",
       "<thead>\n",
       "\t<tr><th></th><th scope=col>X..chr.</th><th scope=col>X.start.</th><th scope=col>X.end.</th></tr>\n",
       "\t<tr><th></th><th scope=col>&lt;fct&gt;</th><th scope=col>&lt;int&gt;</th><th scope=col>&lt;int&gt;</th></tr>\n",
       "</thead>\n",
       "<tbody>\n",
       "\t<tr><th scope=row>1</th><td>chr1</td><td>    1</td><td> 2000</td></tr>\n",
       "\t<tr><th scope=row>2</th><td>chr1</td><td> 2001</td><td> 4000</td></tr>\n",
       "\t<tr><th scope=row>3</th><td>chr1</td><td> 4001</td><td> 6000</td></tr>\n",
       "\t<tr><th scope=row>4</th><td>chr1</td><td> 6001</td><td> 8000</td></tr>\n",
       "\t<tr><th scope=row>5</th><td>chr1</td><td> 8001</td><td>10000</td></tr>\n",
       "\t<tr><th scope=row>6</th><td>chr1</td><td>10001</td><td>12000</td></tr>\n",
       "</tbody>\n",
       "</table>\n"
      ],
      "text/latex": [
       "A data.frame: 6 × 3\n",
       "\\begin{tabular}{r|lll}\n",
       "  & X..chr. & X.start. & X.end.\\\\\n",
       "  & <fct> & <int> & <int>\\\\\n",
       "\\hline\n",
       "\t1 & chr1 &     1 &  2000\\\\\n",
       "\t2 & chr1 &  2001 &  4000\\\\\n",
       "\t3 & chr1 &  4001 &  6000\\\\\n",
       "\t4 & chr1 &  6001 &  8000\\\\\n",
       "\t5 & chr1 &  8001 & 10000\\\\\n",
       "\t6 & chr1 & 10001 & 12000\\\\\n",
       "\\end{tabular}\n"
      ],
      "text/markdown": [
       "\n",
       "A data.frame: 6 × 3\n",
       "\n",
       "| <!--/--> | X..chr. &lt;fct&gt; | X.start. &lt;int&gt; | X.end. &lt;int&gt; |\n",
       "|---|---|---|---|\n",
       "| 1 | chr1 |     1 |  2000 |\n",
       "| 2 | chr1 |  2001 |  4000 |\n",
       "| 3 | chr1 |  4001 |  6000 |\n",
       "| 4 | chr1 |  6001 |  8000 |\n",
       "| 5 | chr1 |  8001 | 10000 |\n",
       "| 6 | chr1 | 10001 | 12000 |\n",
       "\n"
      ],
      "text/plain": [
       "  X..chr. X.start. X.end.\n",
       "1 chr1        1     2000 \n",
       "2 chr1     2001     4000 \n",
       "3 chr1     4001     6000 \n",
       "4 chr1     6001     8000 \n",
       "5 chr1     8001    10000 \n",
       "6 chr1    10001    12000 "
      ]
     },
     "metadata": {},
     "output_type": "display_data"
    }
   ],
   "source": [
    "binsRegions <- read.table(\"./GREG/A549/binsRegions.txt\", header = TRUE)\n",
    "head(binsRegions)"
   ]
  },
  {
   "cell_type": "code",
   "execution_count": 26,
   "metadata": {},
   "outputs": [
    {
     "data": {
      "text/html": [
       "1547861"
      ],
      "text/latex": [
       "1547861"
      ],
      "text/markdown": [
       "1547861"
      ],
      "text/plain": [
       "[1] 1547861"
      ]
     },
     "metadata": {},
     "output_type": "display_data"
    }
   ],
   "source": [
    "nrow(binsRegions)"
   ]
  },
  {
   "cell_type": "code",
   "execution_count": 24,
   "metadata": {},
   "outputs": [
    {
     "data": {
      "text/html": [
       "<table>\n",
       "<caption>A data.frame: 6 × 14</caption>\n",
       "<thead>\n",
       "\t<tr><th></th><th scope=col>CTCF</th><th scope=col>EP300</th><th scope=col>H3K27me3</th><th scope=col>H3K36me3</th><th scope=col>H3K4me1</th><th scope=col>H3K4me2</th><th scope=col>H3K4me3</th><th scope=col>H3K9ac</th><th scope=col>H3K9me3</th><th scope=col>RAD21</th><th scope=col>RNA.Seq</th><th scope=col>RNAPol2</th><th scope=col>RNAPol3</th><th scope=col>YY1</th></tr>\n",
       "\t<tr><th></th><th scope=col>&lt;dbl&gt;</th><th scope=col>&lt;dbl&gt;</th><th scope=col>&lt;dbl&gt;</th><th scope=col>&lt;dbl&gt;</th><th scope=col>&lt;dbl&gt;</th><th scope=col>&lt;dbl&gt;</th><th scope=col>&lt;dbl&gt;</th><th scope=col>&lt;dbl&gt;</th><th scope=col>&lt;dbl&gt;</th><th scope=col>&lt;dbl&gt;</th><th scope=col>&lt;dbl&gt;</th><th scope=col>&lt;dbl&gt;</th><th scope=col>&lt;dbl&gt;</th><th scope=col>&lt;dbl&gt;</th></tr>\n",
       "</thead>\n",
       "<tbody>\n",
       "\t<tr><th scope=row>1</th><td> 0.00000</td><td>0.0000000</td><td>0.0000000</td><td>0.000000</td><td>0.0000000</td><td>0.000000</td><td>0.000000</td><td>0.000000</td><td>0.00000</td><td>0.000000</td><td>0</td><td>0.0000000</td><td> 0.00000</td><td>0.0000000</td></tr>\n",
       "\t<tr><th scope=row>2</th><td> 0.00000</td><td>0.0000000</td><td>0.0000000</td><td>0.000000</td><td>0.0000000</td><td>0.000000</td><td>0.000000</td><td>0.000000</td><td>0.00000</td><td>0.000000</td><td>0</td><td>0.0000000</td><td> 0.00000</td><td>0.0000000</td></tr>\n",
       "\t<tr><th scope=row>3</th><td> 0.00000</td><td>0.0000000</td><td>0.0000000</td><td>0.000000</td><td>0.0000000</td><td>0.000000</td><td>0.000000</td><td>0.000000</td><td>0.00000</td><td>0.000000</td><td>0</td><td>0.0000000</td><td> 0.00000</td><td>0.0000000</td></tr>\n",
       "\t<tr><th scope=row>4</th><td> 0.00000</td><td>0.0000000</td><td>0.0000000</td><td>0.000000</td><td>0.0000000</td><td>0.000000</td><td>0.000000</td><td>0.000000</td><td>0.00000</td><td>0.000000</td><td>0</td><td>0.0000000</td><td> 0.00000</td><td>0.0000000</td></tr>\n",
       "\t<tr><th scope=row>5</th><td> 0.00000</td><td>0.0000000</td><td>0.0000000</td><td>0.000000</td><td>0.0000000</td><td>0.000000</td><td>0.000000</td><td>0.000000</td><td>0.00000</td><td>0.000000</td><td>0</td><td>0.0000000</td><td> 0.00000</td><td>0.0000000</td></tr>\n",
       "\t<tr><th scope=row>6</th><td>47.61676</td><td>0.0274939</td><td>0.8087214</td><td>1.045595</td><td>0.7726153</td><td>1.202883</td><td>1.627348</td><td>1.188197</td><td>6.28546</td><td>8.497575</td><td>0</td><td>0.1668389</td><td>20.66886</td><td>0.1562263</td></tr>\n",
       "</tbody>\n",
       "</table>\n"
      ],
      "text/latex": [
       "A data.frame: 6 × 14\n",
       "\\begin{tabular}{r|llllllllllllll}\n",
       "  & CTCF & EP300 & H3K27me3 & H3K36me3 & H3K4me1 & H3K4me2 & H3K4me3 & H3K9ac & H3K9me3 & RAD21 & RNA.Seq & RNAPol2 & RNAPol3 & YY1\\\\\n",
       "  & <dbl> & <dbl> & <dbl> & <dbl> & <dbl> & <dbl> & <dbl> & <dbl> & <dbl> & <dbl> & <dbl> & <dbl> & <dbl> & <dbl>\\\\\n",
       "\\hline\n",
       "\t1 &  0.00000 & 0.0000000 & 0.0000000 & 0.000000 & 0.0000000 & 0.000000 & 0.000000 & 0.000000 & 0.00000 & 0.000000 & 0 & 0.0000000 &  0.00000 & 0.0000000\\\\\n",
       "\t2 &  0.00000 & 0.0000000 & 0.0000000 & 0.000000 & 0.0000000 & 0.000000 & 0.000000 & 0.000000 & 0.00000 & 0.000000 & 0 & 0.0000000 &  0.00000 & 0.0000000\\\\\n",
       "\t3 &  0.00000 & 0.0000000 & 0.0000000 & 0.000000 & 0.0000000 & 0.000000 & 0.000000 & 0.000000 & 0.00000 & 0.000000 & 0 & 0.0000000 &  0.00000 & 0.0000000\\\\\n",
       "\t4 &  0.00000 & 0.0000000 & 0.0000000 & 0.000000 & 0.0000000 & 0.000000 & 0.000000 & 0.000000 & 0.00000 & 0.000000 & 0 & 0.0000000 &  0.00000 & 0.0000000\\\\\n",
       "\t5 &  0.00000 & 0.0000000 & 0.0000000 & 0.000000 & 0.0000000 & 0.000000 & 0.000000 & 0.000000 & 0.00000 & 0.000000 & 0 & 0.0000000 &  0.00000 & 0.0000000\\\\\n",
       "\t6 & 47.61676 & 0.0274939 & 0.8087214 & 1.045595 & 0.7726153 & 1.202883 & 1.627348 & 1.188197 & 6.28546 & 8.497575 & 0 & 0.1668389 & 20.66886 & 0.1562263\\\\\n",
       "\\end{tabular}\n"
      ],
      "text/markdown": [
       "\n",
       "A data.frame: 6 × 14\n",
       "\n",
       "| <!--/--> | CTCF &lt;dbl&gt; | EP300 &lt;dbl&gt; | H3K27me3 &lt;dbl&gt; | H3K36me3 &lt;dbl&gt; | H3K4me1 &lt;dbl&gt; | H3K4me2 &lt;dbl&gt; | H3K4me3 &lt;dbl&gt; | H3K9ac &lt;dbl&gt; | H3K9me3 &lt;dbl&gt; | RAD21 &lt;dbl&gt; | RNA.Seq &lt;dbl&gt; | RNAPol2 &lt;dbl&gt; | RNAPol3 &lt;dbl&gt; | YY1 &lt;dbl&gt; |\n",
       "|---|---|---|---|---|---|---|---|---|---|---|---|---|---|---|\n",
       "| 1 |  0.00000 | 0.0000000 | 0.0000000 | 0.000000 | 0.0000000 | 0.000000 | 0.000000 | 0.000000 | 0.00000 | 0.000000 | 0 | 0.0000000 |  0.00000 | 0.0000000 |\n",
       "| 2 |  0.00000 | 0.0000000 | 0.0000000 | 0.000000 | 0.0000000 | 0.000000 | 0.000000 | 0.000000 | 0.00000 | 0.000000 | 0 | 0.0000000 |  0.00000 | 0.0000000 |\n",
       "| 3 |  0.00000 | 0.0000000 | 0.0000000 | 0.000000 | 0.0000000 | 0.000000 | 0.000000 | 0.000000 | 0.00000 | 0.000000 | 0 | 0.0000000 |  0.00000 | 0.0000000 |\n",
       "| 4 |  0.00000 | 0.0000000 | 0.0000000 | 0.000000 | 0.0000000 | 0.000000 | 0.000000 | 0.000000 | 0.00000 | 0.000000 | 0 | 0.0000000 |  0.00000 | 0.0000000 |\n",
       "| 5 |  0.00000 | 0.0000000 | 0.0000000 | 0.000000 | 0.0000000 | 0.000000 | 0.000000 | 0.000000 | 0.00000 | 0.000000 | 0 | 0.0000000 |  0.00000 | 0.0000000 |\n",
       "| 6 | 47.61676 | 0.0274939 | 0.8087214 | 1.045595 | 0.7726153 | 1.202883 | 1.627348 | 1.188197 | 6.28546 | 8.497575 | 0 | 0.1668389 | 20.66886 | 0.1562263 |\n",
       "\n"
      ],
      "text/plain": [
       "  CTCF     EP300     H3K27me3  H3K36me3 H3K4me1   H3K4me2  H3K4me3  H3K9ac  \n",
       "1  0.00000 0.0000000 0.0000000 0.000000 0.0000000 0.000000 0.000000 0.000000\n",
       "2  0.00000 0.0000000 0.0000000 0.000000 0.0000000 0.000000 0.000000 0.000000\n",
       "3  0.00000 0.0000000 0.0000000 0.000000 0.0000000 0.000000 0.000000 0.000000\n",
       "4  0.00000 0.0000000 0.0000000 0.000000 0.0000000 0.000000 0.000000 0.000000\n",
       "5  0.00000 0.0000000 0.0000000 0.000000 0.0000000 0.000000 0.000000 0.000000\n",
       "6 47.61676 0.0274939 0.8087214 1.045595 0.7726153 1.202883 1.627348 1.188197\n",
       "  H3K9me3 RAD21    RNA.Seq RNAPol2   RNAPol3  YY1      \n",
       "1 0.00000 0.000000 0       0.0000000  0.00000 0.0000000\n",
       "2 0.00000 0.000000 0       0.0000000  0.00000 0.0000000\n",
       "3 0.00000 0.000000 0       0.0000000  0.00000 0.0000000\n",
       "4 0.00000 0.000000 0       0.0000000  0.00000 0.0000000\n",
       "5 0.00000 0.000000 0       0.0000000  0.00000 0.0000000\n",
       "6 6.28546 8.497575 0       0.1668389 20.66886 0.1562263"
      ]
     },
     "metadata": {},
     "output_type": "display_data"
    }
   ],
   "source": [
    "k562 <- read.table(\"./GREG/K562/normalizedReads.txt\", header = TRUE)\n",
    "head(k562)"
   ]
  },
  {
   "cell_type": "code",
   "execution_count": 25,
   "metadata": {},
   "outputs": [
    {
     "data": {
      "text/html": [
       "1518172"
      ],
      "text/latex": [
       "1518172"
      ],
      "text/markdown": [
       "1518172"
      ],
      "text/plain": [
       "[1] 1518172"
      ]
     },
     "metadata": {},
     "output_type": "display_data"
    }
   ],
   "source": [
    "nrow(k562)"
   ]
  },
  {
   "cell_type": "markdown",
   "metadata": {},
   "source": [
    "Now, we're good to proceed. We shall tap *computeMatrix* function from **deepTools** for preparing input for *plotProfiles* function from the same suite."
   ]
  },
  {
   "cell_type": "markdown",
   "metadata": {},
   "source": [
    "## computeMatrix and plotProfile functions: visualization of peaks"
   ]
  },
  {
   "cell_type": "markdown",
   "metadata": {},
   "source": [
    "Since computeMatrix algorithm takes bigWig files as input, we shall first convert our bedGraph files to bigWig files. For doing so, we shall download and install *bedGraphToBigWig* and *bedClip* tools from **http://genome.ucsc.edu**, and chromosome sizes for hg19. Remember to make the tools executable. Alternatively, if these tools are already present inyour system, they must be defined in the **PATH** variable."
   ]
  },
  {
   "cell_type": "code",
   "execution_count": 12,
   "metadata": {},
   "outputs": [],
   "source": [
    "## Change to the working directory\n",
    "## Make tools executable\n",
    "\n",
    "system (\"chmod a+x ./bedGraphToBigWig\")\n",
    "system (\"chmod a+x ./bedClip\")\n",
    "\n",
    "\n",
    "## Trim the extremities for genomic coordinates to be contained inside the defined chromosome sizes \n",
    "## for the given version of human genome (hg19 here).\n",
    "\n",
    "system(\"find . -name \"*.bedGraph\" -exec bedClip {} hg19.chrom.sizes {}.clipped \\;\")\n",
    "\n",
    "## Sort our bedGraph files\n",
    "\n",
    "system (\"find . -name \"*.clipped\" -exec sort -k1,1 -k2,2n {} -o {}.sorted \\;\")\n",
    "\n",
    "## Converting to bigWig format\n",
    "\n",
    "system(\"find . -name \"*.sorted\" -exec bedGraphToBigWig {} hg19.chrom.sizes {}.bw \\;\")"
   ]
  },
  {
   "cell_type": "markdown",
   "metadata": {},
   "source": [
    "The chromosomal lengths (***hg19.chrom.sizes*** above) for the hg19 version of the human genome can be fetched from this [link](https://genome.ucsc.edu/goldenPath/help/hg19.chrom.sizes)."
   ]
  },
  {
   "cell_type": "markdown",
   "metadata": {},
   "source": [
    "On compleletion of the pipeline hitherto, each cell-type shall have their reported features harboring,\n",
    "1. Replicate files (BAM) and their indexes.\n",
    "2. Each iteration of files upon normalization (bedGraph files, sourced from *readCounts.tab*), outputs from *bedClip* and *sort* tools.\n",
    "3. Finally, the bigWig file.\n",
    "\n",
    "The following is an instance from the **MCF7** cell line for **CTCF**, **EP300**, and **H3K27me3** features."
   ]
  },
  {
   "cell_type": "markdown",
   "metadata": {},
   "source": [
    "![](mcf7.png)"
   ]
  },
  {
   "cell_type": "markdown",
   "metadata": {},
   "source": [
    "Next, again in line with the GREG format, we are going to tranform the hg19 coordinates to hg38 system. To do that, we shall use **[CrossMap](http://crossmap.sourceforge.net/)** tool. The versatility of this tool is refreshing and we can employ it for a variety of files. Here, we convert the bigWig files for each feature."
   ]
  },
  {
   "cell_type": "code",
   "execution_count": 4,
   "metadata": {},
   "outputs": [],
   "source": [
    "system(\"pip3 install Crossmap\") ## Installing tool\n",
    "\n",
    "system(\"find . -name \"*.bw\" -exec CrossMap.py bigwig hg19ToHg38.over.chain.gz {} {}.lift2hg38 \\;\")"
   ]
  },
  {
   "cell_type": "markdown",
   "metadata": {},
   "source": [
    "For the purpose of plotting, the bigWig files cover the whole genome (all 2Kb bins for all features in the cell-types), but eventually the regions we’ll be interested to see the coverage distribution will be the ones derived from distance based clustering algorithms, applied to GREG data. Despite the fact that we’re measuring the counts for the whole genome (which by the way might come in handy for our ML task), consequently, we shall have the plots for the bin-hubs and LR-hubs only. Actually, we can visualize both these regions as overlays."
   ]
  },
  {
   "cell_type": "markdown",
   "metadata": {},
   "source": [
    "P.S. LR-Hubs are long range interactions tracked between two communities."
   ]
  },
  {
   "cell_type": "code",
   "execution_count": null,
   "metadata": {},
   "outputs": [],
   "source": [
    "## Create an instance\n",
    "intervals <- targetBED\n",
    "\n",
    "## Extract length of each chromosome type.\n",
    "levs <- levels(intervals$chrom)\n",
    "\n",
    "for (item in levs)\n",
    "{\n",
    "  occur =0\n",
    "  for(len in 1:nrow(intervals))\n",
    "    {\n",
    "      if (intervals$chrom[len]== item)\n",
    "        {\n",
    "          occur = occur + 1\n",
    "          intervals$binIds[len] <- paste0(\"Bin\", as.character(occur))\n",
    "        }\n",
    "    }\n",
    "  cat(\"The chromosome\", item, \"has\", occur, \"occurences. \\n\")\n",
    "}\n",
    "\n",
    "## Save file\n",
    "intervals$binsGREGformat <- paste0(intervals$chr,\":\",intervals$binIds)\n",
    "write.table(intervals, file = \"intervalsMasterReferenceGREG.txt\", sep = \"\\t\", row.names = FALSE, quote = FALSE)"
   ]
  },
  {
   "cell_type": "code",
   "execution_count": 3,
   "metadata": {},
   "outputs": [
    {
     "data": {
      "text/html": [
       "<table>\n",
       "<caption>A data.frame: 6 × 5</caption>\n",
       "<thead>\n",
       "\t<tr><th></th><th scope=col>chr</th><th scope=col>start</th><th scope=col>end</th><th scope=col>binIds</th><th scope=col>binsGREGformat</th></tr>\n",
       "\t<tr><th></th><th scope=col>&lt;fct&gt;</th><th scope=col>&lt;int&gt;</th><th scope=col>&lt;int&gt;</th><th scope=col>&lt;fct&gt;</th><th scope=col>&lt;fct&gt;</th></tr>\n",
       "</thead>\n",
       "<tbody>\n",
       "\t<tr><th scope=row>1</th><td>chr1</td><td>    1</td><td> 2000</td><td>Bin1</td><td>chr1:Bin1</td></tr>\n",
       "\t<tr><th scope=row>2</th><td>chr1</td><td> 2001</td><td> 4000</td><td>Bin2</td><td>chr1:Bin2</td></tr>\n",
       "\t<tr><th scope=row>3</th><td>chr1</td><td> 4001</td><td> 6000</td><td>Bin3</td><td>chr1:Bin3</td></tr>\n",
       "\t<tr><th scope=row>4</th><td>chr1</td><td> 6001</td><td> 8000</td><td>Bin4</td><td>chr1:Bin4</td></tr>\n",
       "\t<tr><th scope=row>5</th><td>chr1</td><td> 8001</td><td>10000</td><td>Bin5</td><td>chr1:Bin5</td></tr>\n",
       "\t<tr><th scope=row>6</th><td>chr1</td><td>10001</td><td>12000</td><td>Bin6</td><td>chr1:Bin6</td></tr>\n",
       "</tbody>\n",
       "</table>\n"
      ],
      "text/latex": [
       "A data.frame: 6 × 5\n",
       "\\begin{tabular}{r|lllll}\n",
       "  & chr & start & end & binIds & binsGREGformat\\\\\n",
       "  & <fct> & <int> & <int> & <fct> & <fct>\\\\\n",
       "\\hline\n",
       "\t1 & chr1 &     1 &  2000 & Bin1 & chr1:Bin1\\\\\n",
       "\t2 & chr1 &  2001 &  4000 & Bin2 & chr1:Bin2\\\\\n",
       "\t3 & chr1 &  4001 &  6000 & Bin3 & chr1:Bin3\\\\\n",
       "\t4 & chr1 &  6001 &  8000 & Bin4 & chr1:Bin4\\\\\n",
       "\t5 & chr1 &  8001 & 10000 & Bin5 & chr1:Bin5\\\\\n",
       "\t6 & chr1 & 10001 & 12000 & Bin6 & chr1:Bin6\\\\\n",
       "\\end{tabular}\n"
      ],
      "text/markdown": [
       "\n",
       "A data.frame: 6 × 5\n",
       "\n",
       "| <!--/--> | chr &lt;fct&gt; | start &lt;int&gt; | end &lt;int&gt; | binIds &lt;fct&gt; | binsGREGformat &lt;fct&gt; |\n",
       "|---|---|---|---|---|---|\n",
       "| 1 | chr1 |     1 |  2000 | Bin1 | chr1:Bin1 |\n",
       "| 2 | chr1 |  2001 |  4000 | Bin2 | chr1:Bin2 |\n",
       "| 3 | chr1 |  4001 |  6000 | Bin3 | chr1:Bin3 |\n",
       "| 4 | chr1 |  6001 |  8000 | Bin4 | chr1:Bin4 |\n",
       "| 5 | chr1 |  8001 | 10000 | Bin5 | chr1:Bin5 |\n",
       "| 6 | chr1 | 10001 | 12000 | Bin6 | chr1:Bin6 |\n",
       "\n"
      ],
      "text/plain": [
       "  chr  start end   binIds binsGREGformat\n",
       "1 chr1     1  2000 Bin1   chr1:Bin1     \n",
       "2 chr1  2001  4000 Bin2   chr1:Bin2     \n",
       "3 chr1  4001  6000 Bin3   chr1:Bin3     \n",
       "4 chr1  6001  8000 Bin4   chr1:Bin4     \n",
       "5 chr1  8001 10000 Bin5   chr1:Bin5     \n",
       "6 chr1 10001 12000 Bin6   chr1:Bin6     "
      ]
     },
     "metadata": {},
     "output_type": "display_data"
    }
   ],
   "source": [
    "head(intervals)"
   ]
  },
  {
   "cell_type": "markdown",
   "metadata": {},
   "source": [
    "The **binsGREGformat** is the \"key\" column for referencing data; literally."
   ]
  },
  {
   "cell_type": "markdown",
   "metadata": {},
   "source": [
    "The reason we create this master reckoner is that we shall be matching the hubs (with bins in GREG format- chromosome:binID) to this table and derive the chromosome, it's start and end indices, for all regions, that will go as input for *- R* (regions file) input to *computeMatrix* tool."
   ]
  },
  {
   "cell_type": "markdown",
   "metadata": {},
   "source": [
    "### Determining LR-hubs and Bin-hubs"
   ]
  },
  {
   "cell_type": "markdown",
   "metadata": {},
   "source": [
    "#### LR-hubs"
   ]
  },
  {
   "cell_type": "markdown",
   "metadata": {},
   "source": [
    "The clustering results are loaded into the session, and the coordinates of the hubs shall be determined out of these."
   ]
  },
  {
   "cell_type": "code",
   "execution_count": null,
   "metadata": {},
   "outputs": [],
   "source": [
    "## Filtering Hubs for different cell types.\n",
    "## The cell-types in questions are all existing celltypes in GREG, except for \n",
    "## IPS6.9 and IPS19.11, due to lack of feature data associated with them.\n",
    "\n",
    "## Loading clustering results from GREG.\n",
    "load(\"./data/GREG_cluster_v3.RData\")"
   ]
  },
  {
   "cell_type": "markdown",
   "metadata": {},
   "source": [
    "We know that IPS cells have been excluded due to lack of feature data, and so only the residual types shall be brought up for analysis."
   ]
  },
  {
   "cell_type": "markdown",
   "metadata": {},
   "source": [
    "The variable **Long_Range_relationships** carries cell-type information and the LR IDs, amongst others that we shall gloss over for now. We will extract these bits and frame a new variable."
   ]
  },
  {
   "cell_type": "code",
   "execution_count": null,
   "metadata": {},
   "outputs": [],
   "source": [
    "## Define valid cell types\n",
    "cellTypes <- c(\"IMR90\", \"MCF7\", \"HELA\", \"K562\", \"H1ESC\", \"A549\")\n",
    "validLongRangeRelationships <- Long_Range_relationships[Long_Range_relationships$r_CellType %in% cellTypes, ]\n",
    "\n",
    "## From this variable, we shall only be interested in the LR IDs( for which we shall fetching details from another\n",
    "## variable), and celltypes. Let's prune the data in that accord.\n",
    "\n",
    "validLongRangeRelationships <- validLongRangeRelationships[,c(1,6)]"
   ]
  },
  {
   "cell_type": "code",
   "execution_count": null,
   "metadata": {},
   "outputs": [],
   "source": [
    "## Next step is to filter LR IDs for each given celltype as a exclusive dataset.\n",
    "LRdataCellTypes <- lapply(cellTypes, function(ct) {validLongRangeRelationships[validLongRangeRelationships$r_CellType %in% ct, ]})\n",
    "names(LRdataCellTypes) <- cellTypes\n",
    "\n",
    "\n",
    "## Finding bin ids for given LR IDs.\n",
    "LRids <- names(Bins_genes_per_LR_relationship)"
   ]
  },
  {
   "cell_type": "markdown",
   "metadata": {},
   "source": [
    "Now, we shall extract bins associated with these LR IDs. A variable **Bins_genes_per_LR_relationship** incubates bin IDs for all corresponding long range interactions."
   ]
  },
  {
   "cell_type": "code",
   "execution_count": null,
   "metadata": {},
   "outputs": [],
   "source": [
    "dataLRids <- list()\n",
    "for (count in 1:length(LRids))\n",
    "{\n",
    "  dataLRids[[count]] <- eval(parse(text = paste0(\"Bins_genes_per_LR_relationship\", \n",
    "                                               \"$\", LRids[count], \"[,1]\")))\n",
    "}\n",
    "\n",
    "names(dataLRids) <- LRids\n",
    "\n",
    "\n",
    "## Let us create third and fourth columns to store bin ids and indices, \n",
    "## respectively.\n",
    "\n",
    "\n",
    "for (i in 1:length(LRdataCellTypes))\n",
    "  {\n",
    "    LRdataCellTypes[[i]][c(3, 4)] <- NA\n",
    "    colnames(LRdataCellTypes[[i]]) <- c(\"LR_id\", \"r_CellType\", \"binIds\", \"binIndices\")\n",
    "  }"
   ]
  },
  {
   "cell_type": "markdown",
   "metadata": {},
   "source": [
    "Exploring IDs for all cells."
   ]
  },
  {
   "cell_type": "code",
   "execution_count": null,
   "metadata": {},
   "outputs": [],
   "source": [
    "## So, we now have the list of lists of bin ids that are associated with the given\n",
    "## LR ids. We shall now map these to the cell types.\n",
    "\n",
    "\n",
    "for (i in 1:length(LRdataCellTypes))\n",
    "  {\n",
    "    for (j in 1:nrow(LRdataCellTypes[[i]])) \n",
    "      {\n",
    "          if(LRdataCellTypes[[i]][[1]][[j]] %in% names(dataLRids))\n",
    "            {\n",
    "              \n",
    "              LRdataCellTypes[[i]][[3]][[j]] <- dataLRids[LRdataCellTypes[[i]][[1]][[j]]]\n",
    "            }\n",
    "      }\n",
    "  }"
   ]
  },
  {
   "cell_type": "markdown",
   "metadata": {},
   "source": [
    "Our goal for this module has been to derive bin intervals for bin IDs."
   ]
  },
  {
   "cell_type": "code",
   "execution_count": null,
   "metadata": {},
   "outputs": [],
   "source": [
    "## For \"binIndices\" now.\n",
    "## Let us now pull the information of bin indices from the master chart.\n",
    "\n",
    "\n",
    "for (i in 1:length(LRdataCellTypes))\n",
    "{\n",
    "  for (j in 1:nrow(LRdataCellTypes[[i]])) \n",
    "  {\n",
    "    for(k in 1:length(LRdataCellTypes[[i]][[3]][[j]][[1]]))\n",
    "    {\n",
    "      if(LRdataCellTypes[[i]][[3]][[j]][[1]][k] %in% intervals$binsGREGformat) \n",
    "      {\n",
    "        LRdataCellTypes[[i]][[4]][[j]][[k]] <- intervals[intervals$binsGREGformat \n",
    "                                                          == LRdataCellTypes[[i]][[3]][[j]][[1]][k], c(1, 2, 3)]   \n",
    "      }\n",
    "    }\n",
    "  }\n",
    "}\n"
   ]
  },
  {
   "cell_type": "markdown",
   "metadata": {},
   "source": [
    "Here, we revise the list of lists format to list of dataframes. The \"chr\", \"start\", and \"end\" have to be concatenated together as a row and not each as a sublist; this makes the data structure more fluid."
   ]
  },
  {
   "cell_type": "code",
   "execution_count": null,
   "metadata": {},
   "outputs": [],
   "source": [
    "## Reformatting the bin Indices - list of dataframes to a consolidated dataframe for all LR IDs.\n",
    "\n",
    "for (i in 1:length(LRdataCellTypes))\n",
    "{\n",
    "  for (j in 1:nrow(LRdataCellTypes[[i]])) \n",
    "  {\n",
    "    LRdataCellTypes[[i]][[4]][[j]] <- do.call(rbind, LRdataCellTypes[[i]][[4]][[j]])\n",
    "  }\n",
    "}"
   ]
  },
  {
   "cell_type": "markdown",
   "metadata": {},
   "source": [
    "Let's save our the variable and optimise its data too."
   ]
  },
  {
   "cell_type": "code",
   "execution_count": null,
   "metadata": {},
   "outputs": [],
   "source": [
    "## Save this LR-hub tabulation\n",
    "save(LRdataCellTypes, file = \"LRhubsGREG.Rdata\")\n",
    "\n",
    "\n",
    "## We can remove the cell-names and bin-Ids now for convenience.\n",
    "\n",
    "for (i in 1:length(LRdataCellTypes))\n",
    "  {\n",
    "    LRdataCellTypes[[i]][\"r_CellType\"]<- c() # names of cell-lines\n",
    "    LRdataCellTypes[[i]][\"binIds\"]<- c() # bin_Ids\n",
    "  }\n"
   ]
  },
  {
   "cell_type": "markdown",
   "metadata": {},
   "source": [
    "We will design our storage tree for cell-specific hubs."
   ]
  },
  {
   "cell_type": "code",
   "execution_count": null,
   "metadata": {},
   "outputs": [],
   "source": [
    "## Now that we have the bin indices for all LR-hubs and cell-types, we will be extracting these regions for both \n",
    "## those categories.\n",
    "\n",
    "## Structuring directories.\n",
    "\n",
    "dir.create(\"./results\") ## create a results folder\n",
    "\n",
    "## subfolder for cell specific information \n",
    "\n",
    "for (i in 1:length(cellTypes))\n",
    "{\n",
    "  dir.create(paste0(\"./results/\",cellTypes[i]))\n",
    "}\n",
    "\n",
    "cats <- c(\"LR-hubs\", \"Bin-hubs\")\n",
    "\n",
    "## sub-subfolders for all LR-hubs\n",
    "\n",
    "for (i in 1:length(cellTypes))\n",
    "{\n",
    "  for(j in 1:length(cats))\n",
    "  {\n",
    "    dir.create(paste0(\"./results/\",cellTypes[i], \"/\", cats[j]))  \n",
    "  }\n",
    "}\n"
   ]
  },
  {
   "cell_type": "code",
   "execution_count": null,
   "metadata": {},
   "outputs": [],
   "source": [
    "## Saving files to appropriate locations\n",
    "\n",
    "for(i in 1:length(LRdataCellTypes))\n",
    "{\n",
    "  for(j in 1:nrow(LRdataCellTypes[[i]]))\n",
    "  {\n",
    "      write.table(LRdataCellTypes[[i]][[2]][[j]], \n",
    "                  file = paste0(\"./results/\", names(LRdataCellTypes)[[i]], \n",
    "                                \"/LR-hubs/\", LRdataCellTypes[[i]][[1]][[j]], \".bed\"), \n",
    "                  row.names = FALSE, \n",
    "                  col.names = FALSE,\n",
    "                  quote = FALSE,\n",
    "                  sep = \"\\t\")\n",
    "  }\n",
    "}"
   ]
  },
  {
   "cell_type": "markdown",
   "metadata": {},
   "source": [
    "##### Total interactions with TFs, lncRNAs, and chr_ranges"
   ]
  },
  {
   "cell_type": "code",
   "execution_count": null,
   "metadata": {},
   "outputs": [],
   "source": [
    "## Create a column to hold sum of number of TFs, lncRNAs, and chromsomal ranges associated with the given bin.\n",
    "\n",
    "for(i in 1:length(subnetwork_per_LR))\n",
    "  {\n",
    "    for(j in 1:length(subnetwork_per_LR[[i]]))\n",
    "      {\n",
    "        subnetwork_per_LR[[i]][[j]][\"SumTFlncRNAchrRanges\"] <- sum(length(subnetwork_per_LR[[i]][[j]][[1]]), # TFs \n",
    "                                              length(subnetwork_per_LR[[i]][[j]][[2]]), # lncRNAs\n",
    "                                              length(subnetwork_per_LR[[i]][[j]][[4]]) ) # chromosome ranges\n",
    "      }\n",
    "  }"
   ]
  },
  {
   "cell_type": "code",
   "execution_count": null,
   "metadata": {},
   "outputs": [],
   "source": [
    "## Let us just keep this count and remove all other metrics for convenience.\n",
    "\n",
    "for(i in 1:length(subnetwork_per_LR))\n",
    "  {\n",
    "    for(j in 1:length(subnetwork_per_LR[[i]]))\n",
    "      {\n",
    "        subnetwork_per_LR[[i]][[j]] <-   subnetwork_per_LR[[i]][[j]][-c(1:7)]\n",
    "      }\n",
    "  }"
   ]
  },
  {
   "cell_type": "code",
   "execution_count": null,
   "metadata": {},
   "outputs": [],
   "source": [
    "## Seperate interaction-count data for each LR id.\n",
    "\n",
    "listThemAll <- vector(mode=\"list\", length(subnetwork_per_LR))\n",
    "\n",
    "\n",
    "for(i in 1:length(subnetwork_per_LR))\n",
    "  {\n",
    "    for (j in 1:length(subnetwork_per_LR[[i]]))\n",
    "      {\n",
    "        listThemAll[[i]][[j]] <- c(names(subnetwork_per_LR[i]),\n",
    "                   names(subnetwork_per_LR[[i]][j]),\n",
    "                   subnetwork_per_LR[[i]][[j]][[1]])\n",
    "      }\n",
    "  }\n",
    "\n",
    "\n",
    "## Convert to dataframes.\n",
    "listThemAllData <- list()\n",
    "\n",
    "for(i in 1: length(listThemAll))\n",
    "{\n",
    "  listThemAllData[[i]] <- as.data.frame(do.call(rbind, listThemAll[[i]]))\n",
    "  colnames(listThemAllData[[i]]) <- c(\"LR_id\", \"binIds\", \"SumTFlncRNAchrRanges\")\n",
    "}\n",
    "\n",
    "## Naming indices for easy list access.\n",
    "names(listThemAllData) <-  names(subnetwork_per_LR)\n",
    "\n",
    "## Save data.\n",
    "save(listThemAllData, file = \"interactionScore.Rdata\")"
   ]
  },
  {
   "cell_type": "code",
   "execution_count": 3,
   "metadata": {},
   "outputs": [
    {
     "data": {
      "text/plain": [
       "R version 4.0.2 (2020-06-22)\n",
       "Platform: x86_64-apple-darwin17.0 (64-bit)\n",
       "Running under: macOS Catalina 10.15.6\n",
       "\n",
       "Matrix products: default\n",
       "BLAS:   /Library/Frameworks/R.framework/Versions/4.0/Resources/lib/libRblas.dylib\n",
       "LAPACK: /Library/Frameworks/R.framework/Versions/4.0/Resources/lib/libRlapack.dylib\n",
       "\n",
       "locale:\n",
       "[1] C/UTF-8/C/C/C/C\n",
       "\n",
       "attached base packages:\n",
       "[1] stats4    parallel  stats     graphics  grDevices utils     datasets \n",
       "[8] methods   base     \n",
       "\n",
       "other attached packages:\n",
       " [1] BSgenome.Hsapiens.UCSC.hg19_1.4.3 BSgenome_1.56.0                  \n",
       " [3] rtracklayer_1.48.0                Biostrings_2.56.0                \n",
       " [5] XVector_0.28.0                    GenomicRanges_1.40.0             \n",
       " [7] GenomeInfoDb_1.24.2               IRanges_2.22.2                   \n",
       " [9] S4Vectors_0.26.1                  BiocGenerics_0.34.0              \n",
       "[11] readxl_1.3.1                     \n",
       "\n",
       "loaded via a namespace (and not attached):\n",
       " [1] Rcpp_1.0.5                  cellranger_1.1.0           \n",
       " [3] pillar_1.4.6                compiler_4.0.2             \n",
       " [5] BiocManager_1.30.10         base64enc_0.1-3            \n",
       " [7] bitops_1.0-6                tools_4.0.2                \n",
       " [9] zlibbioc_1.34.0             digest_0.6.25              \n",
       "[11] uuid_0.1-4                  lattice_0.20-41            \n",
       "[13] jsonlite_1.7.0              evaluate_0.14              \n",
       "[15] lifecycle_0.2.0             tibble_3.0.3               \n",
       "[17] pkgconfig_2.0.3             rlang_0.4.7                \n",
       "[19] Matrix_1.2-18               DelayedArray_0.14.1        \n",
       "[21] IRdisplay_0.7.0             IRkernel_1.1.1             \n",
       "[23] GenomeInfoDbData_1.2.3      repr_1.1.0                 \n",
       "[25] vctrs_0.3.2                 grid_4.0.2                 \n",
       "[27] Biobase_2.48.0              XML_3.99-0.5               \n",
       "[29] BiocParallel_1.22.0         pbdZMQ_0.3-3               \n",
       "[31] magrittr_1.5                matrixStats_0.56.0         \n",
       "[33] Rsamtools_2.4.0             ellipsis_0.3.1             \n",
       "[35] htmltools_0.5.0             GenomicAlignments_1.24.0   \n",
       "[37] SummarizedExperiment_1.18.2 RCurl_1.98-1.2             \n",
       "[39] crayon_1.3.4               "
      ]
     },
     "metadata": {},
     "output_type": "display_data"
    }
   ],
   "source": [
    "sessionInfo()"
   ]
  }
 ],
 "metadata": {
  "kernelspec": {
   "display_name": "R",
   "language": "R",
   "name": "ir"
  },
  "language_info": {
   "codemirror_mode": "r",
   "file_extension": ".r",
   "mimetype": "text/x-r-source",
   "name": "R",
   "pygments_lexer": "r",
   "version": "4.0.2"
  }
 },
 "nbformat": 4,
 "nbformat_minor": 2
}

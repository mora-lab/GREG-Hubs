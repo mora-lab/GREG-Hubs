{
 "cells": [
  {
   "cell_type": "markdown",
   "metadata": {},
   "source": [
    "## Exploring Significance of Feature-Specific Regions against the Genome-wide Long Range Interactions.\n",
    "\n",
    "## Author: Shaurya Jauhari\n",
    "## Last Reviewed: January 7th, 2021."
   ]
  },
  {
   "cell_type": "markdown",
   "metadata": {},
   "source": [
    "### Prologue\n",
    "\n",
    "<p align=\"justify\"> The regioneR plots were drawn to confirm whether our regions-of-interest (protein-DNA bindings, and histone-marks) have a significant overlap with the long-range interactions (regions; 1Mb or Infinitely apart) from GREG. That is to say that whether both set of regions intersect not just by chance, but sufficiently more than expected to highlight a biological cruciality.</p>\n",
    "\n",
    "<p align=\"justify\"> The idea is to choose every feature for each cell and run the regioneR overlap test. </p> "
   ]
  },
  {
   "cell_type": "markdown",
   "metadata": {},
   "source": [
    "<p align=\"justify\"> To implement the strategy we shall used the following function that wraps the function <b>overlapPermTest</b> from <i>regioneR</i>. The wrapper script takes as argument the two regions in question. </p>"
   ]
  },
  {
   "cell_type": "code",
   "execution_count": 1,
   "metadata": {},
   "outputs": [],
   "source": [
    "source(\"../projectFunctions/regionerRun.R\") ##loading function definition"
   ]
  },
  {
   "cell_type": "markdown",
   "metadata": {},
   "source": [
    "### Index"
   ]
  },
  {
   "cell_type": "markdown",
   "metadata": {},
   "source": [
    "* [1. A549](#link1)\n",
    "    * [1.1 CTCF](#link2)\n",
    "    * [1.2 EP300](#link3)\n",
    "    * [1.3 H3K4me1](#link4)\n",
    "    * [1.4 H3K4me2](#link5)\n",
    "    * [1.5 H3K4me3](#link6)\n",
    "    * [1.6 H3K49ac](#link7)\n",
    "    * [1.7 H3K49me3](#link8)\n",
    "    * [1.8 H3K427me3](#link9)\n",
    "    * [1.9 H3K436me3](#link10)\n",
    "    * [1.10 RAD21](#link11)\n",
    "    * [1.11 RNAPol2](#link12)\n",
    "    * [1.12 YY1](#link13)\n",
    "* [2. H1ESC](#link14)\n",
    "    * [2.1 CTCF](#link15)\n",
    "    * [2.2 EP300](#link16)\n",
    "    * [2.3 H3K4me1](#link17)\n",
    "    * [2.4 H3K4me2](#link18)\n",
    "    * [2.5 H3K4me3](#link19)\n",
    "    * [2.6 H3K9ac](#link20)\n",
    "    * [2.7 H3K9me3](#link21)\n",
    "    * [2.8 H3K27me3](#link22)\n",
    "    * [2.9 H3K36me3](#link23)\n",
    "    * [2.10 RAD21](#link24)\n",
    "    * [2.11 RNAPol2](#link25)\n",
    "    * [2.12 RNA Seq](#link26)\n",
    "    * [2.13 YY1](#link27)\n",
    "* [3. HeLa](#link28)\n",
    "    * [3.1 CTCF](#link29)\n",
    "    * [3.2 EP300](#link30)\n",
    "    * [3.3 H3K4me1](#link31)\n",
    "    * [3.4 H3K3me2](#link32)\n",
    "    * [3.5 H3K4me3](#link33)\n",
    "    * [3.6 H3K9ac](#link34)\n",
    "    * [3.7 H3K9me3](#link35)\n",
    "    * [3.8 H3K27me3](#link36)\n",
    "    * [3.9 H3K36me3](#link37)\n",
    "    * [3.10 RAD21](#link38)\n",
    "    * [3.11 RNAPol2](#link39)\n",
    "    * [3.12 RNAPol3](#link40)\n",
    "    * [3.13 RNA Seq](#link41)\n",
    "* [4. IMR90](#link42)\n",
    "    * [4.1 CTCF](#link43)\n",
    "    * [4.2 H3K4me1](#link44)\n",
    "    * [4.3 H3K3me2](#link45)\n",
    "    * [4.4 H3K4me3](#link46)\n",
    "    * [4.5 H3K9ac](#link47)\n",
    "    * [4.6 H3K9me3](#link48)\n",
    "    * [4.7 H3K27me3](#link49)\n",
    "    * [4.8 H3K36me3](#link50)\n",
    "    * [4.9 RNAPol2](#link51)\n",
    "* [5. K562](#link52)\n",
    "    * [5.1 CTCF](#link53)\n",
    "    * [5.2 EP300](#link54)\n",
    "    * [5.3 H3K4me1](#link55)\n",
    "    * [5.4 H3K3me2](#link56)\n",
    "    * [5.5 H3K4me3](#link57)\n",
    "    * [5.6 H3K9ac](#link58)\n",
    "    * [5.7 H3K9me3](#link59)\n",
    "    * [5.8 H3K27me3](#link60)\n",
    "    * [5.9 H3K36me3](#link61)\n",
    "    * [5.10 RAD21](#link62)\n",
    "    * [5.11 RNAPol2](#link63)\n",
    "    * [5.12 RNAPol3](#link64)\n",
    "    * [5.13 RNASeq](#link65)\n",
    "    * [5.14 YY1](#link66)\n",
    "* [6. MCF7](#link67)\n",
    "    * [6.1 EP300](#link68)\n",
    "    * [6.2 H3K4me1](#link69)\n",
    "    * [6.3 H3K3me2](#link70)\n",
    "    * [6.4 H3K4me3](#link71)\n",
    "    * [6.5 H3K9ac](#link72)\n",
    "    * [6.6 H3K9me3](#link73)\n",
    "    * [6.7 H3K27me3](#link74)\n",
    "    * [6.8 H3K36me3](#link75)\n",
    "    * [6.9 RAD21](#link76)\n",
    "    * [6.10 RNAPol2](#link77)\n",
    "    * [6.11 RNASeq](#link78)"
   ]
  },
  {
   "cell_type": "markdown",
   "metadata": {},
   "source": [
    "### <a id=link1>1. A549</a>"
   ]
  },
  {
   "cell_type": "markdown",
   "metadata": {},
   "source": [
    "#### <a id=link2> 1.1 CTCF</a>"
   ]
  },
  {
   "cell_type": "code",
   "execution_count": null,
   "metadata": {},
   "outputs": [],
   "source": [
    "regionerRun(\"../GREG/A549/CTCF/normalizedReads.bedGraph.bedClipped.sorted\", \"./GREG/A549/A549LRs.txt\", \"a549\", \"ctcf\")"
   ]
  },
  {
   "cell_type": "markdown",
   "metadata": {},
   "source": [
    "![](./A549/a549ctcf.png)"
   ]
  },
  {
   "cell_type": "markdown",
   "metadata": {},
   "source": [
    "#### <a id=link3> 1.2 EP300 </a>"
   ]
  },
  {
   "cell_type": "code",
   "execution_count": null,
   "metadata": {},
   "outputs": [],
   "source": [
    "regionerRun(\"../GREG/A549/EP300/normalizedReads.bedGraph.bedClipped.sorted\", \"./GREG/A549/A549LRs.txt\", \"a549\", \"ep300\")"
   ]
  },
  {
   "cell_type": "markdown",
   "metadata": {},
   "source": [
    "![](./A549/a549ep300.png)"
   ]
  },
  {
   "cell_type": "markdown",
   "metadata": {},
   "source": [
    "#### <a id=link4> 1.3 H3K4me1 </a>"
   ]
  },
  {
   "cell_type": "code",
   "execution_count": null,
   "metadata": {},
   "outputs": [],
   "source": [
    "regionerRun(\"../GREG/A549/H3K4me1/normalizedReads.bedGraph.bedClipped.sorted\", \"./GREG/A549/A549LRs.txt\", \"a549\", \"h3k4me1\")"
   ]
  },
  {
   "cell_type": "markdown",
   "metadata": {},
   "source": [
    "![](./A549/a549h3k4me1.png)"
   ]
  },
  {
   "cell_type": "markdown",
   "metadata": {},
   "source": [
    "#### <a id=link5> 1.4 H3K4me2 </a>"
   ]
  },
  {
   "cell_type": "code",
   "execution_count": null,
   "metadata": {},
   "outputs": [],
   "source": [
    "regionerRun(\"../GREG/A549/H3K4me2/normalizedReads.bedGraph.bedClipped.sorted\", \"./GREG/A549/A549LRs.txt\", \"a549\", \"h3k4me2\")"
   ]
  },
  {
   "cell_type": "markdown",
   "metadata": {},
   "source": [
    "![](./A549/a549h3k4me2.png)"
   ]
  },
  {
   "cell_type": "markdown",
   "metadata": {},
   "source": [
    "#### <a id=link6> 1.5 H3K4me3 </a>"
   ]
  },
  {
   "cell_type": "code",
   "execution_count": null,
   "metadata": {},
   "outputs": [],
   "source": [
    "regionerRun(\"../GREG/A549/H3K4me3/normalizedReads.bedGraph.bedClipped.sorted\", \"./GREG/A549/A549LRs.txt\", \"a549\", \"h3k4me3\")"
   ]
  },
  {
   "cell_type": "markdown",
   "metadata": {},
   "source": [
    "![](./A549/a549h3k4me3.png)"
   ]
  },
  {
   "cell_type": "markdown",
   "metadata": {},
   "source": [
    "#### <a id=link7> 1.6 H3K9ac </a>"
   ]
  },
  {
   "cell_type": "code",
   "execution_count": null,
   "metadata": {},
   "outputs": [],
   "source": [
    "regionerRun(\"../GREG/A549/H3K9ac/normalizedReads.bedGraph.bedClipped.sorted\", \"./GREG/A549/A549LRs.txt\", \"a549\", \"h3k9ac\")"
   ]
  },
  {
   "cell_type": "markdown",
   "metadata": {},
   "source": [
    "![](./A549/a549h3k9ac.png)"
   ]
  },
  {
   "cell_type": "markdown",
   "metadata": {},
   "source": [
    "#### <a id=link8> 1.7 H3K9me3 </a>"
   ]
  },
  {
   "cell_type": "code",
   "execution_count": null,
   "metadata": {},
   "outputs": [],
   "source": [
    "regionerRun(\"../GREG/A549/H3K9me3/normalizedReads.bedGraph.bedClipped.sorted\", \"./GREG/A549/A549LRs.txt\", \"a549\", \"h3k9me3\")"
   ]
  },
  {
   "cell_type": "markdown",
   "metadata": {},
   "source": [
    "![](./A549/a549h3k9me3.png)"
   ]
  },
  {
   "cell_type": "markdown",
   "metadata": {},
   "source": [
    "#### <a id=link9> 1.8 H3K27me3 </a>"
   ]
  },
  {
   "cell_type": "code",
   "execution_count": null,
   "metadata": {},
   "outputs": [],
   "source": [
    "regionerRun(\"../GREG/A549/H3K27me3/normalizedReads.bedGraph.bedClipped.sorted\", \"./GREG/A549/A549LRs.txt\", \"a549\", \"h3k27me3\")"
   ]
  },
  {
   "cell_type": "markdown",
   "metadata": {},
   "source": [
    "![](./A549/a549h3k27me3.png)"
   ]
  },
  {
   "cell_type": "markdown",
   "metadata": {},
   "source": [
    "#### <a id=link10> 1.9 H3K36me3 </a>"
   ]
  },
  {
   "cell_type": "code",
   "execution_count": null,
   "metadata": {},
   "outputs": [],
   "source": [
    "regionerRun(\"../GREG/A549/H3K36me3/normalizedReads.bedGraph.bedClipped.sorted\", \"./GREG/A549/A549LRs.txt\", \"a549\", \"h3k36me3\")"
   ]
  },
  {
   "cell_type": "markdown",
   "metadata": {},
   "source": [
    "![](./A549/a549h3k36me3.png)"
   ]
  },
  {
   "cell_type": "markdown",
   "metadata": {},
   "source": [
    "#### <a id=link11> 1.10 RAD21 </a>"
   ]
  },
  {
   "cell_type": "code",
   "execution_count": null,
   "metadata": {},
   "outputs": [],
   "source": [
    "regionerRun(\"../GREG/A549/RAD21/normalizedReads.bedGraph.bedClipped.sorted\", \"./GREG/A549/A549LRs.txt\", \"a549\", \"rad21\")"
   ]
  },
  {
   "cell_type": "markdown",
   "metadata": {},
   "source": [
    "![](./A549/a549rad21.png)"
   ]
  },
  {
   "cell_type": "markdown",
   "metadata": {},
   "source": [
    "#### <a id=link12> 1.11 RNAPol2 </a>"
   ]
  },
  {
   "cell_type": "code",
   "execution_count": null,
   "metadata": {},
   "outputs": [],
   "source": [
    "regionerRun(\"../GREG/A549/RNAPol2/normalizedReads.bedGraph.bedClipped.sorted\", \"./GREG/A549/A549LRs.txt\", \"a549\", \"rnapol2\")"
   ]
  },
  {
   "cell_type": "markdown",
   "metadata": {},
   "source": [
    "![](./A549/a549rnapol2.png)"
   ]
  },
  {
   "cell_type": "markdown",
   "metadata": {},
   "source": [
    "#### <a id=link13> 1.12 YY1 </a>"
   ]
  },
  {
   "cell_type": "code",
   "execution_count": null,
   "metadata": {},
   "outputs": [],
   "source": [
    "regionerRun(\"../GREG/A549/YY1/normalizedReads.bedGraph.bedClipped.sorted\", \"./GREG/A549/A549LRs.txt\", \"a549\", \"yy1\")"
   ]
  },
  {
   "cell_type": "markdown",
   "metadata": {},
   "source": [
    "![](./A549/a549yy1.png)"
   ]
  },
  {
   "cell_type": "markdown",
   "metadata": {},
   "source": [
    "### <a id=link14> 2. H1ESC </a>"
   ]
  },
  {
   "cell_type": "markdown",
   "metadata": {},
   "source": [
    "#### <a id=link15> 2.1 CTCF </a>"
   ]
  },
  {
   "cell_type": "code",
   "execution_count": null,
   "metadata": {},
   "outputs": [],
   "source": [
    "regionerRun(\"../GREG/H1ESC/CTCF/normalizedReads.bedGraph.bedClipped.sorted\", \"./GREG/H1ESC/H1ESCLRs.txt\", \"h1esc\", \"ctcf\")"
   ]
  },
  {
   "cell_type": "markdown",
   "metadata": {},
   "source": [
    "![](./H1ESC/h1escctcf.png)"
   ]
  },
  {
   "cell_type": "markdown",
   "metadata": {},
   "source": [
    "#### <a id=link16> 2.2 EP300 </a>"
   ]
  },
  {
   "cell_type": "code",
   "execution_count": null,
   "metadata": {},
   "outputs": [],
   "source": [
    "regionerRun(\"../GREG/H1ESC/EP300/normalizedReads.bedGraph.bedClipped.sorted\", \"./GREG/H1ESC/H1ESCLRs.txt\", \"h1esc\", \"ep300\")"
   ]
  },
  {
   "cell_type": "markdown",
   "metadata": {},
   "source": [
    "![](./H1ESC/h1escep300.png)"
   ]
  },
  {
   "cell_type": "markdown",
   "metadata": {},
   "source": [
    "#### <a id=link17> 2.3 H3K4me1 </a>"
   ]
  },
  {
   "cell_type": "code",
   "execution_count": null,
   "metadata": {},
   "outputs": [],
   "source": [
    "regionerRun(\"../GREG/H1ESC/H3K4me1/normalizedReads.bedGraph.bedClipped.sorted\", \"./GREG/H1ESC/H1ESCLRs.txt\", \"h1esc\", \"h3k3me1\")"
   ]
  },
  {
   "cell_type": "markdown",
   "metadata": {},
   "source": [
    "![](./H1ESC/h1esch3k4me1.png)"
   ]
  },
  {
   "cell_type": "markdown",
   "metadata": {},
   "source": [
    "#### <a id=link18> 2.4 H3K4me2 </a>"
   ]
  },
  {
   "cell_type": "code",
   "execution_count": null,
   "metadata": {},
   "outputs": [],
   "source": [
    "regionerRun(\"../GREG/H1ESC/H3K4me2/normalizedReads.bedGraph.bedClipped.sorted\", \"./GREG/H1ESC/H1ESCLRs.txt\", \"h1esc\", \"h3k3me2\")"
   ]
  },
  {
   "cell_type": "markdown",
   "metadata": {},
   "source": [
    "![](./H1ESC/h1esch3k4me2.png)"
   ]
  },
  {
   "cell_type": "markdown",
   "metadata": {},
   "source": [
    "#### <a id=link19> 2.5 H3K4me3 </a>"
   ]
  },
  {
   "cell_type": "code",
   "execution_count": null,
   "metadata": {},
   "outputs": [],
   "source": [
    "regionerRun(\"../GREG/H1ESC/H3K4me3/normalizedReads.bedGraph.bedClipped.sorted\", \"./GREG/H1ESC/H1ESCLRs.txt\", \"h1esc\", \"h3k3me3\")"
   ]
  },
  {
   "cell_type": "markdown",
   "metadata": {},
   "source": [
    "![](./H1ESC/h1esch3k4me3.png)"
   ]
  },
  {
   "cell_type": "markdown",
   "metadata": {},
   "source": [
    "#### <a id=link20> 2.6 H3K9ac </a>"
   ]
  },
  {
   "cell_type": "code",
   "execution_count": null,
   "metadata": {},
   "outputs": [],
   "source": [
    "regionerRun(\"../GREG/H1ESC/H3K9ac/normalizedReads.bedGraph.bedClipped.sorted\", \"./GREG/H1ESC/H1ESCLRs.txt\", \"h1esc\", \"h3k9ac\")"
   ]
  },
  {
   "cell_type": "markdown",
   "metadata": {},
   "source": [
    "![](./H1ESC/h1esch3k9ac.png)"
   ]
  },
  {
   "cell_type": "markdown",
   "metadata": {},
   "source": [
    "#### <a id=link21> 2.7 H3K9me3 </a>"
   ]
  },
  {
   "cell_type": "code",
   "execution_count": null,
   "metadata": {},
   "outputs": [],
   "source": [
    "regionerRun(\"../GREG/H1ESC/H3K9me3/normalizedReads.bedGraph.bedClipped.sorted\", \"./GREG/H1ESC/H1ESCLRs.txt\", \"h1esc\", \"h3k9me3\")"
   ]
  },
  {
   "cell_type": "markdown",
   "metadata": {},
   "source": [
    "![](./H1ESC/h1esch3k9me3.png)"
   ]
  },
  {
   "cell_type": "markdown",
   "metadata": {},
   "source": [
    "#### <a id=link22> 2.8 H3K27me3 </a>"
   ]
  },
  {
   "cell_type": "code",
   "execution_count": null,
   "metadata": {},
   "outputs": [],
   "source": [
    "regionerRun(\"../GREG/H1ESC/H3K27me3/normalizedReads.bedGraph.bedClipped.sorted\", \"./GREG/H1ESC/H1ESCLRs.txt\", \"h1esc\", \"h3k27me3\")"
   ]
  },
  {
   "cell_type": "markdown",
   "metadata": {},
   "source": [
    "![](./H1ESC/h1esch3k27me3.png)"
   ]
  },
  {
   "cell_type": "markdown",
   "metadata": {},
   "source": [
    "#### <a id=link23> 2.9 H3K36me3 </a>"
   ]
  },
  {
   "cell_type": "code",
   "execution_count": null,
   "metadata": {},
   "outputs": [],
   "source": [
    "regionerRun(\"../GREG/H1ESC/H3K36me3/normalizedReads.bedGraph.bedClipped.sorted\", \"./GREG/H1ESC/H1ESCLRs.txt\", \"h1esc\", \"h3k36me3\")"
   ]
  },
  {
   "cell_type": "markdown",
   "metadata": {},
   "source": [
    "![](./H1ESC/h1esch3k36me3.png)"
   ]
  },
  {
   "cell_type": "markdown",
   "metadata": {},
   "source": [
    "#### <a id=link24> 2.10 RAD21 </a>"
   ]
  },
  {
   "cell_type": "code",
   "execution_count": null,
   "metadata": {},
   "outputs": [],
   "source": [
    "regionerRun(\"../GREG/H1ESC/RAD21/normalizedReads.bedGraph.bedClipped.sorted\", \"./GREG/H1ESC/H1ESCLRs.txt\", \"h1esc\", \"rad21\")"
   ]
  },
  {
   "cell_type": "markdown",
   "metadata": {},
   "source": [
    "![](./H1ESC/h1escrad21.png)"
   ]
  },
  {
   "cell_type": "markdown",
   "metadata": {},
   "source": [
    "#### <a id=link25> 2.11 RNAPol2 </a>"
   ]
  },
  {
   "cell_type": "code",
   "execution_count": null,
   "metadata": {},
   "outputs": [],
   "source": [
    "regionerRun(\"../GREG/H1ESC/RNAPol2/normalizedReads.bedGraph.bedClipped.sorted\", \"./GREG/H1ESC/H1ESCLRs.txt\", \"h1esc\", \"rnapol2\")"
   ]
  },
  {
   "cell_type": "markdown",
   "metadata": {},
   "source": [
    "![](./H1ESC/h1escrnapol2.png)"
   ]
  },
  {
   "cell_type": "markdown",
   "metadata": {},
   "source": [
    "#### <a id=link26> 2.12 RNA Seq </a>"
   ]
  },
  {
   "cell_type": "code",
   "execution_count": null,
   "metadata": {},
   "outputs": [],
   "source": [
    "regionerRun(\"../GREG/H1ESC/RNASeq/normalizedReads.bedGraph.bedClipped.sorted\", \"./GREG/H1ESC/H1ESCLRs.txt\", \"h1esc\", \"rnaseq\")"
   ]
  },
  {
   "cell_type": "markdown",
   "metadata": {},
   "source": [
    "![](./H1ESC/h1escrnaseq.png)"
   ]
  },
  {
   "cell_type": "markdown",
   "metadata": {},
   "source": [
    "#### <a id=link27> 2.13 YY1 </a>"
   ]
  },
  {
   "cell_type": "code",
   "execution_count": null,
   "metadata": {},
   "outputs": [],
   "source": [
    "regionerRun(\"../GREG/H1ESC/YY1/normalizedReads.bedGraph.bedClipped.sorted\", \"./GREG/H1ESC/H1ESCLRs.txt\", \"h1esc\", \"yy1\")"
   ]
  },
  {
   "cell_type": "markdown",
   "metadata": {},
   "source": [
    "![](./H1ESC/h1escyy1.png)"
   ]
  },
  {
   "cell_type": "markdown",
   "metadata": {},
   "source": [
    "### <a id=link28> 3. HeLa </a>"
   ]
  },
  {
   "cell_type": "markdown",
   "metadata": {},
   "source": [
    "#### <a id=link29> 3.1 CTCF </a>"
   ]
  },
  {
   "cell_type": "code",
   "execution_count": null,
   "metadata": {},
   "outputs": [],
   "source": [
    "regionerRun(\"../GREG/HeLa/CTCF/normalizedReads.bedGraph.bedClipped.sorted\", \"./GREG/H1ESC/H1ESCLRs.txt\", \"hela\", \"ctcf\")"
   ]
  },
  {
   "cell_type": "markdown",
   "metadata": {},
   "source": [
    "![](./HELA/helactcf.png)"
   ]
  },
  {
   "cell_type": "markdown",
   "metadata": {},
   "source": [
    "#### <a id=link30> 3.2 EP300 </a>"
   ]
  },
  {
   "cell_type": "code",
   "execution_count": null,
   "metadata": {},
   "outputs": [],
   "source": [
    "regionerRun(\"../GREG/HeLa/EP300/normalizedReads.bedGraph.bedClipped.sorted\", \"./GREG/H1ESC/H1ESCLRs.txt\", \"hela\", \"ep300\")"
   ]
  },
  {
   "cell_type": "markdown",
   "metadata": {},
   "source": [
    "![](./HELA/helaep300.png)"
   ]
  },
  {
   "cell_type": "markdown",
   "metadata": {},
   "source": [
    "#### <a id=link31> 3.3 H3K4me1 </a>"
   ]
  },
  {
   "cell_type": "code",
   "execution_count": null,
   "metadata": {},
   "outputs": [],
   "source": [
    "regionerRun(\"../GREG/HeLa/H3K4me1/normalizedReads.bedGraph.bedClipped.sorted\", \"./GREG/H1ESC/H1ESCLRs.txt\", \"hela\", \"h3k4me1\")"
   ]
  },
  {
   "cell_type": "markdown",
   "metadata": {},
   "source": [
    "![](./HELA/helah3k4me1.png)"
   ]
  },
  {
   "cell_type": "markdown",
   "metadata": {},
   "source": [
    "#### <a id=link32> 3.4 H3K4me2 </a>"
   ]
  },
  {
   "cell_type": "code",
   "execution_count": null,
   "metadata": {},
   "outputs": [],
   "source": [
    "regionerRun(\"../GREG/HeLa/H3K4me2/normalizedReads.bedGraph.bedClipped.sorted\", \"./GREG/H1ESC/H1ESCLRs.txt\", \"hela\", \"h3k4me2\")"
   ]
  },
  {
   "cell_type": "markdown",
   "metadata": {},
   "source": [
    "![](./HELA/helah3k4me2.png)"
   ]
  },
  {
   "cell_type": "markdown",
   "metadata": {},
   "source": [
    "#### <a id=link33> 3.5 H3K4me3 </a>"
   ]
  },
  {
   "cell_type": "code",
   "execution_count": null,
   "metadata": {},
   "outputs": [],
   "source": [
    "regionerRun(\"../GREG/HeLa/H3K4me3/normalizedReads.bedGraph.bedClipped.sorted\", \"./GREG/H1ESC/H1ESCLRs.txt\", \"hela\", \"h3k4me3\")"
   ]
  },
  {
   "cell_type": "markdown",
   "metadata": {},
   "source": [
    "![](./HELA/helah3k4me3.png)"
   ]
  },
  {
   "cell_type": "markdown",
   "metadata": {},
   "source": [
    "#### <a id=link34> 3.6 H3K9ac </a>"
   ]
  },
  {
   "cell_type": "code",
   "execution_count": null,
   "metadata": {},
   "outputs": [],
   "source": [
    "regionerRun(\"../GREG/HeLa/H3K9ac/normalizedReads.bedGraph.bedClipped.sorted\", \"./GREG/H1ESC/H1ESCLRs.txt\", \"hela\", \"h3k9ac\")"
   ]
  },
  {
   "cell_type": "markdown",
   "metadata": {},
   "source": [
    "![](./HELA/helah3k9ac.png)"
   ]
  },
  {
   "cell_type": "markdown",
   "metadata": {},
   "source": [
    "#### <a id=link35> 3.7 H3K9me3 </a>"
   ]
  },
  {
   "cell_type": "code",
   "execution_count": null,
   "metadata": {},
   "outputs": [],
   "source": [
    "regionerRun(\"../GREG/HeLa/H3K9me3/normalizedReads.bedGraph.bedClipped.sorted\", \"./GREG/H1ESC/H1ESCLRs.txt\", \"hela\", \"h3k9me3\")"
   ]
  },
  {
   "cell_type": "markdown",
   "metadata": {},
   "source": [
    "![](./HELA/helah3k9me3.png)"
   ]
  },
  {
   "cell_type": "markdown",
   "metadata": {},
   "source": [
    "#### <a id=link36> 3.8 H3K27me3 </a>"
   ]
  },
  {
   "cell_type": "code",
   "execution_count": null,
   "metadata": {},
   "outputs": [],
   "source": [
    "regionerRun(\"../GREG/HeLa/H3K27me3/normalizedReads.bedGraph.bedClipped.sorted\", \"./GREG/H1ESC/H1ESCLRs.txt\", \"hela\", \"h3k27me3\")"
   ]
  },
  {
   "cell_type": "markdown",
   "metadata": {},
   "source": [
    "![](./HELA/helah3k27me3.png)"
   ]
  },
  {
   "cell_type": "markdown",
   "metadata": {},
   "source": [
    "#### <a id=link37> 3.9 H3K36me3 </a>"
   ]
  },
  {
   "cell_type": "code",
   "execution_count": null,
   "metadata": {},
   "outputs": [],
   "source": [
    "regionerRun(\"../GREG/HeLa/H3K36me3/normalizedReads.bedGraph.bedClipped.sorted\", \"./GREG/H1ESC/H1ESCLRs.txt\", \"hela\", \"h3k36me3\")"
   ]
  },
  {
   "cell_type": "markdown",
   "metadata": {},
   "source": [
    "![](./HELA/helah3k36me3.png)"
   ]
  },
  {
   "cell_type": "markdown",
   "metadata": {},
   "source": [
    "#### <a id=link38> 3.10 RAD21 </a>"
   ]
  },
  {
   "cell_type": "code",
   "execution_count": null,
   "metadata": {},
   "outputs": [],
   "source": [
    "regionerRun(\"../GREG/HeLa/RAD21/normalizedReads.bedGraph.bedClipped.sorted\", \"./GREG/H1ESC/H1ESCLRs.txt\", \"hela\", \"rad21\")"
   ]
  },
  {
   "cell_type": "markdown",
   "metadata": {},
   "source": [
    "![](./HELA/helarad21.png)"
   ]
  },
  {
   "cell_type": "markdown",
   "metadata": {},
   "source": [
    "#### <a id=link39> 3.11 RNAPol2 </a>"
   ]
  },
  {
   "cell_type": "code",
   "execution_count": null,
   "metadata": {},
   "outputs": [],
   "source": [
    "regionerRun(\"../GREG/HeLa/RNAPol2/normalizedReads.bedGraph.bedClipped.sorted\", \"./GREG/H1ESC/H1ESCLRs.txt\", \"hela\", \"rnapol2\")"
   ]
  },
  {
   "cell_type": "markdown",
   "metadata": {},
   "source": [
    "![](./HELA/helarnapol2.png)"
   ]
  },
  {
   "cell_type": "markdown",
   "metadata": {},
   "source": [
    "#### <a id=link40> 3.12 RNAPol3 </a>"
   ]
  },
  {
   "cell_type": "code",
   "execution_count": null,
   "metadata": {},
   "outputs": [],
   "source": [
    "regionerRun(\"../GREG/HeLa/RNAPol3/normalizedReads.bedGraph.bedClipped.sorted\", \"./GREG/H1ESC/H1ESCLRs.txt\", \"hela\", \"rnapol3\")"
   ]
  },
  {
   "cell_type": "markdown",
   "metadata": {},
   "source": [
    "![](./HELA/helarnapol3.png)"
   ]
  },
  {
   "cell_type": "markdown",
   "metadata": {},
   "source": [
    "#### <a id=link41> 3.13 RNA Seq </a>"
   ]
  },
  {
   "cell_type": "code",
   "execution_count": null,
   "metadata": {},
   "outputs": [],
   "source": [
    "regionerRun(\"../GREG/HeLa/RNASeq/normalizedReads.bedGraph.bedClipped.sorted\", \"./GREG/H1ESC/H1ESCLRs.txt\", \"hela\", \"rnaseq\")"
   ]
  },
  {
   "cell_type": "markdown",
   "metadata": {},
   "source": [
    "![](./HELA/helarnaseq.png)"
   ]
  },
  {
   "cell_type": "markdown",
   "metadata": {},
   "source": [
    "### <a id=link42> 4. IMR90 </a>"
   ]
  },
  {
   "cell_type": "markdown",
   "metadata": {},
   "source": [
    "#### <a id=link43> 4.1 CTCF </a>"
   ]
  },
  {
   "cell_type": "code",
   "execution_count": null,
   "metadata": {},
   "outputs": [],
   "source": [
    "regionerRun(\"../GREG/IMR90/CTCF/normalizedReads.bedGraph.bedClipped.sorted\", \"./GREG/IMR90/IMR90LRs.txt\", \"imr90\", \"ctcf\")"
   ]
  },
  {
   "cell_type": "markdown",
   "metadata": {},
   "source": [
    "![](./IMR90/imr90ctcf.png)"
   ]
  },
  {
   "cell_type": "markdown",
   "metadata": {},
   "source": [
    "#### <a id=link44> 4.2 H3K4me1 </a>"
   ]
  },
  {
   "cell_type": "code",
   "execution_count": null,
   "metadata": {},
   "outputs": [],
   "source": [
    "regionerRun(\"../GREG/IMR90/H3K4me1/normalizedReads.bedGraph.bedClipped.sorted\", \"./GREG/IMR90/IMR90LRs.txt\", \"imr90\", \"h3k4me1\")"
   ]
  },
  {
   "cell_type": "markdown",
   "metadata": {},
   "source": [
    "![](./IMR90/imr90h3k4me1.png)"
   ]
  },
  {
   "cell_type": "markdown",
   "metadata": {},
   "source": [
    "#### <a id=link45> 4.3 H3K4me2 </a>"
   ]
  },
  {
   "cell_type": "code",
   "execution_count": null,
   "metadata": {},
   "outputs": [],
   "source": [
    "regionerRun(\"../GREG/IMR90/H3K4me2/normalizedReads.bedGraph.bedClipped.sorted\", \"./GREG/IMR90/IMR90LRs.txt\", \"imr90\", \"h3k4me2\")"
   ]
  },
  {
   "cell_type": "markdown",
   "metadata": {},
   "source": [
    "![](./IMR90/imr90h3k4me2.png)"
   ]
  },
  {
   "cell_type": "markdown",
   "metadata": {},
   "source": [
    "#### <a id=link46> 4.4 H3K4me3 </a>"
   ]
  },
  {
   "cell_type": "code",
   "execution_count": null,
   "metadata": {},
   "outputs": [],
   "source": [
    "regionerRun(\"../GREG/IMR90/H3K4me3/normalizedReads.bedGraph.bedClipped.sorted\", \"./GREG/IMR90/IMR90LRs.txt\", \"imr90\", \"h3k4me3\")"
   ]
  },
  {
   "cell_type": "markdown",
   "metadata": {},
   "source": [
    "![](./IMR90/imr90h3k4me3.png)"
   ]
  },
  {
   "cell_type": "markdown",
   "metadata": {},
   "source": [
    "#### <a id=link47> 4.5 H3K9ac </a>"
   ]
  },
  {
   "cell_type": "code",
   "execution_count": null,
   "metadata": {},
   "outputs": [],
   "source": [
    "regionerRun(\"../GREG/IMR90/H3K9ac/normalizedReads.bedGraph.bedClipped.sorted\", \"./GREG/IMR90/IMR90LRs.txt\", \"imr90\", \"h3k9ac\")"
   ]
  },
  {
   "cell_type": "markdown",
   "metadata": {},
   "source": [
    "![](./IMR90/imr90h3k9ac.png)"
   ]
  },
  {
   "cell_type": "markdown",
   "metadata": {},
   "source": [
    "#### <a id=link48> 4.6 H3K9me3 </a>"
   ]
  },
  {
   "cell_type": "code",
   "execution_count": null,
   "metadata": {},
   "outputs": [],
   "source": [
    "regionerRun(\"../GREG/IMR90/H3K9me3/normalizedReads.bedGraph.bedClipped.sorted\", \"./GREG/IMR90/IMR90LRs.txt\", \"imr90\", \"h3k9me3\")"
   ]
  },
  {
   "cell_type": "markdown",
   "metadata": {},
   "source": [
    "![](./IMR90/imr90h3k9me3.png)"
   ]
  },
  {
   "cell_type": "markdown",
   "metadata": {},
   "source": [
    "#### <a id=link49> 4.7 H3K27me3 </a>"
   ]
  },
  {
   "cell_type": "code",
   "execution_count": null,
   "metadata": {},
   "outputs": [],
   "source": [
    "regionerRun(\"../GREG/IMR90/H3K27me3/normalizedReads.bedGraph.bedClipped.sorted\", \"./GREG/IMR90/IMR90LRs.txt\", \"imr90\", \"h3k27me3\")"
   ]
  },
  {
   "cell_type": "markdown",
   "metadata": {},
   "source": [
    "![](./IMR90/imr90h3k27me3.png)"
   ]
  },
  {
   "cell_type": "markdown",
   "metadata": {},
   "source": [
    "#### <a id=link50> 4.8 H3K36me3 </a>"
   ]
  },
  {
   "cell_type": "code",
   "execution_count": null,
   "metadata": {},
   "outputs": [],
   "source": [
    "regionerRun(\"../GREG/IMR90/H3K36me3/normalizedReads.bedGraph.bedClipped.sorted\", \"./GREG/IMR90/IMR90LRs.txt\", \"imr90\", \"h3k36me3\")"
   ]
  },
  {
   "cell_type": "markdown",
   "metadata": {},
   "source": [
    "![](./IMR90/imr90h3k36me3.png)"
   ]
  },
  {
   "cell_type": "markdown",
   "metadata": {},
   "source": [
    "#### <a id=link51> 4.9 RNAPol2 </a>"
   ]
  },
  {
   "cell_type": "code",
   "execution_count": null,
   "metadata": {},
   "outputs": [],
   "source": [
    "regionerRun(\"../GREG/IMR90/RNAPol2/normalizedReads.bedGraph.bedClipped.sorted\", \"./GREG/IMR90/IMR90LRs.txt\", \"imr90\", \"rnapol2\")"
   ]
  },
  {
   "cell_type": "markdown",
   "metadata": {},
   "source": [
    "![](./IMR90/imr90rnapol2.png)"
   ]
  },
  {
   "cell_type": "markdown",
   "metadata": {},
   "source": [
    "### <a id=link52> 5. K562 </a>"
   ]
  },
  {
   "cell_type": "markdown",
   "metadata": {},
   "source": [
    "#### <a id=link53> 5.1 CTCF </a>"
   ]
  },
  {
   "cell_type": "code",
   "execution_count": null,
   "metadata": {},
   "outputs": [],
   "source": [
    "regionerRun(\"../GREG/K562/CTCF/normalizedReads.bedGraph.bedClipped.sorted\", \"./GREG/K562/K562LRs.txt\", \"k562\", \"ctcf\")"
   ]
  },
  {
   "cell_type": "markdown",
   "metadata": {},
   "source": [
    "![](./K562/k562ctcf.png)"
   ]
  },
  {
   "cell_type": "markdown",
   "metadata": {},
   "source": [
    "#### <a id=link54> 5.2 EP300 </a>"
   ]
  },
  {
   "cell_type": "code",
   "execution_count": null,
   "metadata": {},
   "outputs": [],
   "source": [
    "regionerRun(\"../GREG/K562/EP300/normalizedReads.bedGraph.bedClipped.sorted\", \"./GREG/K562/K562LRs.txt\", \"k562\", \"ep300\")"
   ]
  },
  {
   "cell_type": "markdown",
   "metadata": {},
   "source": [
    "![](./K562/k562ep300.png)"
   ]
  },
  {
   "cell_type": "markdown",
   "metadata": {},
   "source": [
    "#### <a id=link55> 5.3 H3K4me1 </a>"
   ]
  },
  {
   "cell_type": "code",
   "execution_count": null,
   "metadata": {},
   "outputs": [],
   "source": [
    "regionerRun(\"../GREG/K562/H3K4me1/normalizedReads.bedGraph.bedClipped.sorted\", \"./GREG/K562/K562LRs.txt\", \"k562\", \"h3k4me1\")"
   ]
  },
  {
   "cell_type": "markdown",
   "metadata": {},
   "source": [
    "![](./K562/k562h3k4me1.png)"
   ]
  },
  {
   "cell_type": "markdown",
   "metadata": {},
   "source": [
    "#### <a id=link56> 5.4 H3K4me2 </a>"
   ]
  },
  {
   "cell_type": "code",
   "execution_count": null,
   "metadata": {},
   "outputs": [],
   "source": [
    "regionerRun(\"../GREG/K562/H3K4me2/normalizedReads.bedGraph.bedClipped.sorted\", \"./GREG/K562/K562LRs.txt\", \"k562\", \"h3k4me2\")"
   ]
  },
  {
   "cell_type": "markdown",
   "metadata": {},
   "source": [
    "![](./K562/k562h3k4me2.png)"
   ]
  },
  {
   "cell_type": "markdown",
   "metadata": {},
   "source": [
    "#### <a id=link57> 5.5 H3K4me3 </a>"
   ]
  },
  {
   "cell_type": "code",
   "execution_count": null,
   "metadata": {},
   "outputs": [],
   "source": [
    "regionerRun(\"../GREG/K562/H3K4me3/normalizedReads.bedGraph.bedClipped.sorted\", \"./GREG/K562/K562LRs.txt\", \"k562\", \"h3k4me3\")"
   ]
  },
  {
   "cell_type": "markdown",
   "metadata": {},
   "source": [
    "![](./K562/k562h3k4me3.png)"
   ]
  },
  {
   "cell_type": "markdown",
   "metadata": {},
   "source": [
    "#### <a id=link58> 5.6 H3K9ac </a>"
   ]
  },
  {
   "cell_type": "code",
   "execution_count": null,
   "metadata": {},
   "outputs": [],
   "source": [
    "regionerRun(\"../GREG/K562/H3K9ac/normalizedReads.bedGraph.bedClipped.sorted\", \"./GREG/K562/K562LRs.txt\", \"k562\", \"h3k9ac\")"
   ]
  },
  {
   "cell_type": "markdown",
   "metadata": {},
   "source": [
    "![](./K562/k562h3k9ac.png)"
   ]
  },
  {
   "cell_type": "markdown",
   "metadata": {},
   "source": [
    "#### <a id=link59> 5.7 H3K9me3 </a>"
   ]
  },
  {
   "cell_type": "code",
   "execution_count": null,
   "metadata": {},
   "outputs": [],
   "source": [
    "regionerRun(\"../GREG/K562/H3K9me3/normalizedReads.bedGraph.bedClipped.sorted\", \"./GREG/K562/K562LRs.txt\", \"k562\", \"h3k9me3\")"
   ]
  },
  {
   "cell_type": "markdown",
   "metadata": {},
   "source": [
    "![](./K562/k562h3k9me3.png)"
   ]
  },
  {
   "cell_type": "markdown",
   "metadata": {},
   "source": [
    "#### <a id=link60> 5.8 H3K27me3 </a>"
   ]
  },
  {
   "cell_type": "code",
   "execution_count": null,
   "metadata": {},
   "outputs": [],
   "source": [
    "regionerRun(\"../GREG/K562/H3K27me3/normalizedReads.bedGraph.bedClipped.sorted\", \"./GREG/K562/K562LRs.txt\", \"k562\", \"h3k27me3\")"
   ]
  },
  {
   "cell_type": "markdown",
   "metadata": {},
   "source": [
    "![](./K562/k562h3k27me3.png)"
   ]
  },
  {
   "cell_type": "markdown",
   "metadata": {},
   "source": [
    "#### <a id=link61> 5.9 H3K36me3 </a>"
   ]
  },
  {
   "cell_type": "code",
   "execution_count": null,
   "metadata": {},
   "outputs": [],
   "source": [
    "regionerRun(\"../GREG/K562/H3K36me3/normalizedReads.bedGraph.bedClipped.sorted\", \"./GREG/K562/K562LRs.txt\", \"k562\", \"h3k36me3\")"
   ]
  },
  {
   "cell_type": "markdown",
   "metadata": {},
   "source": [
    "![](./K562/k562h3k36me3.png)"
   ]
  },
  {
   "cell_type": "markdown",
   "metadata": {},
   "source": [
    "#### <a id=link62> 5.10 RAD21 </a>"
   ]
  },
  {
   "cell_type": "code",
   "execution_count": null,
   "metadata": {},
   "outputs": [],
   "source": [
    "regionerRun(\"../GREG/K562/RAD21/normalizedReads.bedGraph.bedClipped.sorted\", \"./GREG/K562/K562LRs.txt\", \"k562\", \"rad21\")"
   ]
  },
  {
   "cell_type": "markdown",
   "metadata": {},
   "source": [
    "![](./K562/k562rad21.png)"
   ]
  },
  {
   "cell_type": "markdown",
   "metadata": {},
   "source": [
    "#### <a id=link63> 5.11 RNAPol2 </a>"
   ]
  },
  {
   "cell_type": "code",
   "execution_count": null,
   "metadata": {},
   "outputs": [],
   "source": [
    "regionerRun(\"../GREG/K562/RNAPol2/normalizedReads.bedGraph.bedClipped.sorted\", \"./GREG/K562/K562LRs.txt\", \"k562\", \"rnapol2\")"
   ]
  },
  {
   "cell_type": "markdown",
   "metadata": {},
   "source": [
    "![](./K562/k562rnapol2.png)"
   ]
  },
  {
   "cell_type": "markdown",
   "metadata": {},
   "source": [
    "#### <a id=link64> 5.12 RNAPol3 </a>"
   ]
  },
  {
   "cell_type": "code",
   "execution_count": null,
   "metadata": {},
   "outputs": [],
   "source": [
    "regionerRun(\"../GREG/K562/RNAPol3/normalizedReads.bedGraph.bedClipped.sorted\", \"./GREG/K562/K562LRs.txt\", \"k562\", \"rnapol3\")"
   ]
  },
  {
   "cell_type": "markdown",
   "metadata": {},
   "source": [
    "![](./K562/k562rnapol3.png)"
   ]
  },
  {
   "cell_type": "markdown",
   "metadata": {},
   "source": [
    "#### <a id=link65> 5.13 RNASeq </a>"
   ]
  },
  {
   "cell_type": "code",
   "execution_count": null,
   "metadata": {},
   "outputs": [],
   "source": [
    "regionerRun(\"../GREG/K562/RNASeq/normalizedReads.bedGraph.bedClipped.sorted\", \"./GREG/K562/K562LRs.txt\", \"k562\", \"rnaseq\")"
   ]
  },
  {
   "cell_type": "markdown",
   "metadata": {},
   "source": [
    "![](./K562/k562rnaseq.png)"
   ]
  },
  {
   "cell_type": "markdown",
   "metadata": {},
   "source": [
    "#### <a id=link66> 5.14 YY1 </a>"
   ]
  },
  {
   "cell_type": "code",
   "execution_count": null,
   "metadata": {},
   "outputs": [],
   "source": [
    "regionerRun(\"../GREG/K562/YY1/normalizedReads.bedGraph.bedClipped.sorted\", \"./GREG/K562/K562LRs.txt\", \"k562\", \"yy1\")"
   ]
  },
  {
   "cell_type": "markdown",
   "metadata": {},
   "source": [
    "![](./K562/k562yy1.png)"
   ]
  },
  {
   "cell_type": "markdown",
   "metadata": {},
   "source": [
    "#### <a id=link67> 6. MCF7 </a>"
   ]
  },
  {
   "cell_type": "markdown",
   "metadata": {},
   "source": [
    "#### <a id=link68> 6.1 EP300 </a>"
   ]
  },
  {
   "cell_type": "code",
   "execution_count": null,
   "metadata": {},
   "outputs": [],
   "source": [
    "regionerRun(\"../GREG/MCF7/EP300/normalizedReads.bedGraph.bedClipped.sorted\", \"./GREG/MCF/MCFLRs.txt\", \"mcf7\", \"ep300\")"
   ]
  },
  {
   "cell_type": "markdown",
   "metadata": {},
   "source": [
    "![](./MCF7/mcf7ep300.png)"
   ]
  },
  {
   "cell_type": "markdown",
   "metadata": {},
   "source": [
    "#### <a id=link69> 6.2 H3K4me1 </a>"
   ]
  },
  {
   "cell_type": "code",
   "execution_count": null,
   "metadata": {},
   "outputs": [],
   "source": [
    "regionerRun(\"../GREG/MCF7/H3K4me1/normalizedReads.bedGraph.bedClipped.sorted\", \"./GREG/MCF/MCFLRs.txt\", \"mcf7\", \"h3k4me1\")"
   ]
  },
  {
   "cell_type": "markdown",
   "metadata": {},
   "source": [
    "![](./MCF7/mcf7h3k4me1.png)"
   ]
  },
  {
   "cell_type": "markdown",
   "metadata": {},
   "source": [
    "#### <a id=link70> 6.3 H3K4me2 </a>"
   ]
  },
  {
   "cell_type": "code",
   "execution_count": null,
   "metadata": {},
   "outputs": [],
   "source": [
    "regionerRun(\"../GREG/MCF7/H3K4me2/normalizedReads.bedGraph.bedClipped.sorted\", \"./GREG/MCF/MCFLRs.txt\", \"mcf7\", \"h3k4me2\")"
   ]
  },
  {
   "cell_type": "markdown",
   "metadata": {},
   "source": [
    "![](./MCF7/mcf7h3k4me2.png)"
   ]
  },
  {
   "cell_type": "markdown",
   "metadata": {},
   "source": [
    "#### <a id=link71> 6.4 H3K4me3 </a>"
   ]
  },
  {
   "cell_type": "code",
   "execution_count": null,
   "metadata": {},
   "outputs": [],
   "source": [
    "regionerRun(\"../GREG/MCF7/H3K4me3/normalizedReads.bedGraph.bedClipped.sorted\", \"./GREG/MCF/MCFLRs.txt\", \"mcf7\", \"h3k4me3\")"
   ]
  },
  {
   "cell_type": "markdown",
   "metadata": {},
   "source": [
    "![](./MCF7/mcf7h3k4me3.png)"
   ]
  },
  {
   "cell_type": "markdown",
   "metadata": {},
   "source": [
    "#### <a id=link72> 6.5 H3K9ac </a>"
   ]
  },
  {
   "cell_type": "code",
   "execution_count": null,
   "metadata": {},
   "outputs": [],
   "source": [
    "regionerRun(\"../GREG/MCF7/H3K9ac/normalizedReads.bedGraph.bedClipped.sorted\", \"./GREG/MCF/MCFLRs.txt\", \"mcf7\", \"h3k9ac\")"
   ]
  },
  {
   "cell_type": "markdown",
   "metadata": {},
   "source": [
    "![](./MCF7/mcf7h3k9ac.png)"
   ]
  },
  {
   "cell_type": "markdown",
   "metadata": {},
   "source": [
    "#### <a id=link73> 6.6 H3K9me3 </a>"
   ]
  },
  {
   "cell_type": "code",
   "execution_count": null,
   "metadata": {},
   "outputs": [],
   "source": [
    "regionerRun(\"../GREG/MCF7/H3K9me3/normalizedReads.bedGraph.bedClipped.sorted\", \"./GREG/MCF/MCFLRs.txt\", \"mcf7\", \"h3k9me3\")"
   ]
  },
  {
   "cell_type": "markdown",
   "metadata": {},
   "source": [
    "![](./MCF7/mcf7h3k9me3.png)"
   ]
  },
  {
   "cell_type": "markdown",
   "metadata": {},
   "source": [
    "#### <a id=link74> 6.7 H3K27me3 </a>"
   ]
  },
  {
   "cell_type": "code",
   "execution_count": null,
   "metadata": {},
   "outputs": [],
   "source": [
    "regionerRun(\"../GREG/MCF7/H3K27me3/normalizedReads.bedGraph.bedClipped.sorted\", \"./GREG/MCF/MCFLRs.txt\", \"mcf7\", \"h3k27me3\")"
   ]
  },
  {
   "cell_type": "markdown",
   "metadata": {},
   "source": [
    "![](./MCF7/mcf7h3k27me3.png)"
   ]
  },
  {
   "cell_type": "markdown",
   "metadata": {},
   "source": [
    "#### <a id=link75> 6.8 H3K36me3 </a>"
   ]
  },
  {
   "cell_type": "code",
   "execution_count": null,
   "metadata": {},
   "outputs": [],
   "source": [
    "regionerRun(\"../GREG/MCF7/H3K36me3/normalizedReads.bedGraph.bedClipped.sorted\", \"./GREG/MCF/MCFLRs.txt\", \"mcf7\", \"h3k36me3\")"
   ]
  },
  {
   "cell_type": "markdown",
   "metadata": {},
   "source": [
    "![](./MCF7/mcf7h3k36me3.png)"
   ]
  },
  {
   "cell_type": "markdown",
   "metadata": {},
   "source": [
    "#### <a id=link76> 6.9 RAD21 </a>"
   ]
  },
  {
   "cell_type": "code",
   "execution_count": null,
   "metadata": {},
   "outputs": [],
   "source": [
    "regionerRun(\"../GREG/MCF7/RAD21/normalizedReads.bedGraph.bedClipped.sorted\", \"./GREG/MCF/MCFLRs.txt\", \"mcf7\", \"rad21\")"
   ]
  },
  {
   "cell_type": "markdown",
   "metadata": {},
   "source": [
    "![](./MCF7/mcf7rad21.png)"
   ]
  },
  {
   "cell_type": "markdown",
   "metadata": {},
   "source": [
    "#### <a id=link77> 6.10 RNAPol2 </a>"
   ]
  },
  {
   "cell_type": "code",
   "execution_count": null,
   "metadata": {},
   "outputs": [],
   "source": [
    "regionerRun(\"../GREG/MCF7/RNAPol2/normalizedReads.bedGraph.bedClipped.sorted\", \"./GREG/MCF/MCFLRs.txt\", \"mcf7\", \"rnapol2\")"
   ]
  },
  {
   "cell_type": "markdown",
   "metadata": {},
   "source": [
    "![](./MCF7/mcf7rnapol2.png)"
   ]
  },
  {
   "cell_type": "markdown",
   "metadata": {},
   "source": [
    "#### <a id=link78> 6.11 RNA Seq </a>"
   ]
  },
  {
   "cell_type": "code",
   "execution_count": null,
   "metadata": {},
   "outputs": [],
   "source": [
    "regionerRun(\"../GREG/MCF7/RNASeq/normalizedReads.bedGraph.bedClipped.sorted\", \"./GREG/MCF/MCFLRs.txt\", \"mcf7\", \"rnaseq\")"
   ]
  },
  {
   "cell_type": "markdown",
   "metadata": {},
   "source": [
    "![](./MCF7/mcf7rnaseq.png)"
   ]
  },
  {
   "cell_type": "markdown",
   "metadata": {},
   "source": [
    "## Conclusion"
   ]
  },
  {
   "cell_type": "markdown",
   "metadata": {},
   "source": [
    "<p align=\"justify\"> We pitted our regions of interest (protein-bindings and histone marks; ChIP-Seq data) against the band of long-range interactions in GREG. <i>regioneR</i> was employed to test this overlap, and whether it was statistically significant. We considered 100 permutations and concluded a consistent p-value of 0.0099, except for the following cases. </p>\n",
    "\n",
    "| Index | Cell | Mark | P-Value | Z-Score | Significant |\n",
    "| :------------- | :----------: | -----------: | -----------: | -----------: |-----------: |\n",
    "| 1. | A549 | H3K4me1 | 0.0297 | -2.505 | Yes |\n",
    "| 2. | A549 | H3K9ac | 0.0891 | -1.394 | No |\n",
    "| 3. | IMR90 | H3K4me3 | 0.0198 | -2.348 | Yes |\n",
    "\n",
    "<p align=\"justify\"> P.S. The threshold for statistical significance is deemed 0.05. Also, a negative z-score indicates a value that is below the mean for the group of values. </p>"
   ]
  },
  {
   "cell_type": "code",
   "execution_count": 3,
   "metadata": {},
   "outputs": [
    {
     "data": {
      "text/plain": [
       "R version 4.0.2 (2020-06-22)\n",
       "Platform: x86_64-w64-mingw32/x64 (64-bit)\n",
       "Running under: Windows 10 x64 (build 16299)\n",
       "\n",
       "Matrix products: default\n",
       "\n",
       "locale:\n",
       "[1] LC_COLLATE=English_United States.1252 \n",
       "[2] LC_CTYPE=English_United States.1252   \n",
       "[3] LC_MONETARY=English_United States.1252\n",
       "[4] LC_NUMERIC=C                          \n",
       "[5] LC_TIME=English_United States.1252    \n",
       "\n",
       "attached base packages:\n",
       "[1] stats     graphics  grDevices utils     datasets  methods   base     \n",
       "\n",
       "loaded via a namespace (and not attached):\n",
       " [1] compiler_4.0.2  ellipsis_0.3.1  IRdisplay_0.7.0 pbdZMQ_0.3-3   \n",
       " [5] tools_4.0.2     htmltools_0.5.0 pillar_1.4.7    base64enc_0.1-3\n",
       " [9] crayon_1.3.4    uuid_0.1-4      IRkernel_1.1.1  jsonlite_1.7.1 \n",
       "[13] digest_0.6.27   lifecycle_0.2.0 repr_1.1.0      rlang_0.4.10   \n",
       "[17] evaluate_0.14  "
      ]
     },
     "metadata": {},
     "output_type": "display_data"
    }
   ],
   "source": [
    "sessionInfo()"
   ]
  }
 ],
 "metadata": {
  "kernelspec": {
   "display_name": "R",
   "language": "R",
   "name": "ir"
  },
  "language_info": {
   "codemirror_mode": "r",
   "file_extension": ".r",
   "mimetype": "text/x-r-source",
   "name": "R",
   "pygments_lexer": "r",
   "version": "4.0.2"
  }
 },
 "nbformat": 4,
 "nbformat_minor": 4
}
